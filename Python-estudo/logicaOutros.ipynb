{
 "cells": [
  {
   "cell_type": "code",
   "execution_count": null,
   "metadata": {},
   "outputs": [],
   "source": [
    "# ESTRUTURAS DE REPETIÇÃO ANINHADAS\n",
    "\n",
    "idade = int(input('Qual a sua idade?'))\n",
    "while(idade > 0):\n",
    "\n",
    "    sexo = input('Qual o seu sexo?')\n",
    "\n",
    "    if(sexo == 'M' or sexo == 'm'):\n",
    "        print('Boa noite, Senhor. Sua idade é {}'.format(idade))\n",
    "    elif(sexo == 'F' or sexo == 'f'):\n",
    "        print('Boa noite, Senhora. Sua idade é {}'.format(idade))\n",
    "    else:\n",
    "        print('Sexo inexistente no sistema.')\n",
    "\n",
    "    idade = int(input('Qual a sua idade?'))\n",
    "print('Encerrando...')"
   ]
  },
  {
   "cell_type": "code",
   "execution_count": null,
   "metadata": {},
   "outputs": [],
   "source": [
    "for numero in range(2,100):\n",
    "    flag = 0\n",
    "    for i in range(2,numero):\n",
    "        if(numero%i == 0):\n",
    "            flag = 1\n",
    "            break\n",
    "    if(not flag):\n",
    "        print(numero)\n"
   ]
  },
  {
   "cell_type": "code",
   "execution_count": null,
   "metadata": {},
   "outputs": [],
   "source": [
    "frase = input('Digite uma frase: ')\n",
    "tamanho = len(frase)\n",
    "\n",
    "while((tamanho < 10) or (tamanho > 30)):\n",
    "    frase = input('Digite uma frase: ')\n",
    "    tamanho = len(frase)\n",
    "\n",
    "print('Com espaços: {}'.format(frase))\n",
    "print('Sem espaços: ', end=\"\")\n",
    "\n",
    "for i in range(0,tamanho):\n",
    "    if(frase[i] != ' '):\n",
    "        print(frase[i], end='')\n"
   ]
  },
  {
   "cell_type": "code",
   "execution_count": null,
   "metadata": {},
   "outputs": [],
   "source": [
    "h_inicial = int(input('Deseja iniciar em qual hora?'))\n",
    "h_final = int(input('Deseja terminar em qual hora?'))\n",
    "\n",
    "while(\n",
    "    (h_inicial > h_final) or\n",
    "    (h_inicial < 0) or \n",
    "    (h_inicial > 23) or \n",
    "    (h_final < 0) or \n",
    "    (h_final > 23)\n",
    "    ):\n",
    "    h_inicial = int(input('Deseja iniciar em qual hora?'))\n",
    "    h_final = int(input('Deseja terminar em qual hora?'))\n",
    "\n",
    "for h in range(h_inicial,h_final+1):\n",
    "    for m in range(0,60):\n",
    "        for s in range(0,60):\n",
    "            print(h,':',m,':',s,'h')"
   ]
  },
  {
   "cell_type": "code",
   "execution_count": null,
   "metadata": {},
   "outputs": [],
   "source": [
    "# Atividade prática\n",
    "\n",
    "# For -> numero finito de interações\n",
    "\n",
    "for i in range(3,13):\n",
    "    print(i)\n",
    "\n",
    "print('')\n",
    "\n",
    "i = 3\n",
    "while(i < 13):\n",
    "    print(i)\n",
    "    i+=1\n"
   ]
  },
  {
   "cell_type": "code",
   "execution_count": null,
   "metadata": {},
   "outputs": [],
   "source": [
    "for i in range(0,9,2):\n",
    "    print(i)\n",
    "\n",
    "print('')\n",
    "\n",
    "i = 0\n",
    "while(i < 9):\n",
    "    print(i)\n",
    "    i+=2"
   ]
  },
  {
   "cell_type": "code",
   "execution_count": null,
   "metadata": {},
   "outputs": [],
   "source": [
    "# Problemas\n",
    "\n",
    "print('CALCULADORA')\n",
    "print('Tem-se as opções abaixo:')\n",
    "print('+ --> Adição')\n",
    "print('- --> Subtração')\n",
    "print('* --> Multiplicação')\n",
    "print('/ --> Divisão')\n",
    "print('S --> Sair')\n",
    "operador = input('Escolha uma das opções apresentadas:')\n",
    "\n",
    "while((operador != 'S' and operador != '+' and operador != '-' and operador != '*' and operador != '/')):\n",
    "    operador = input('Escolha uma das opções apresentadas:')\n",
    "\n",
    "if(operador != 'S'):\n",
    "    v1 = int(input('Digite o primeiro valor:'))\n",
    "    v2 = int(input('Digite o segundo valor:'))\n",
    "    if(operador == '+'):\n",
    "        result = v1 + v2\n",
    "        print('Resultado: {} {} {} = {}'.format(v1,operador,v2,result))\n",
    "    elif(operador == '-'):\n",
    "        result = v1 - v2\n",
    "        print('Resultado: {} {} {} = {}'.format(v1,operador,v2,result))\n",
    "    elif(operador == '*'):\n",
    "        result = v1 * v2\n",
    "        print('Resultado: {} {} {} = {}'.format(v1,operador,v2,result))\n",
    "    elif(operador == '/'):\n",
    "        result = v1 / v2\n",
    "        print('Resultado: {} {} {} = {}'.format(v1,operador,v2,result))\n",
    "    else:\n",
    "        print('Operação inválida.')\n",
    "else:\n",
    "    print('Encerrando o programa...')"
   ]
  }
 ],
 "metadata": {
  "kernelspec": {
   "display_name": "Python 3",
   "language": "python",
   "name": "python3"
  },
  "language_info": {
   "codemirror_mode": {
    "name": "ipython",
    "version": 3
   },
   "file_extension": ".py",
   "mimetype": "text/x-python",
   "name": "python",
   "nbconvert_exporter": "python",
   "pygments_lexer": "ipython3",
   "version": "3.8.10"
  },
  "orig_nbformat": 4
 },
 "nbformat": 4,
 "nbformat_minor": 2
}
