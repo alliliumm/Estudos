{
 "cells": [
  {
   "attachments": {},
   "cell_type": "markdown",
   "metadata": {},
   "source": [
    "# H1"
   ]
  },
  {
   "attachments": {},
   "cell_type": "markdown",
   "metadata": {},
   "source": [
    "## H2"
   ]
  },
  {
   "attachments": {},
   "cell_type": "markdown",
   "metadata": {},
   "source": [
    "### H3"
   ]
  },
  {
   "attachments": {},
   "cell_type": "markdown",
   "metadata": {},
   "source": [
    "#### H4"
   ]
  },
  {
   "attachments": {},
   "cell_type": "markdown",
   "metadata": {},
   "source": [
    "##### H5"
   ]
  },
  {
   "attachments": {},
   "cell_type": "markdown",
   "metadata": {},
   "source": [
    "###### H6"
   ]
  },
  {
   "attachments": {},
   "cell_type": "markdown",
   "metadata": {},
   "source": [
    "# Aula 2"
   ]
  },
  {
   "attachments": {},
   "cell_type": "markdown",
   "metadata": {},
   "source": [
    "## Funções básicas"
   ]
  },
  {
   "attachments": {},
   "cell_type": "markdown",
   "metadata": {},
   "source": [
    "### Função de Entrada em Python"
   ]
  },
  {
   "cell_type": "code",
   "execution_count": null,
   "metadata": {},
   "outputs": [],
   "source": [
    "pergunta = 'oi'\n",
    "valor = input(pergunta)\n",
    "print(valor)"
   ]
  },
  {
   "cell_type": "code",
   "execution_count": null,
   "metadata": {},
   "outputs": [],
   "source": [
    "idade = input('Qual sua idade?')\n",
    "print('Minha idade é', idade)\n"
   ]
  },
  {
   "cell_type": "code",
   "execution_count": null,
   "metadata": {},
   "outputs": [],
   "source": [
    "nome = input('Qual é seu nome?')\n",
    "print('Olá {}, seja bem vindo!'.format(nome))"
   ]
  },
  {
   "attachments": {},
   "cell_type": "markdown",
   "metadata": {},
   "source": [
    "### Função de Saída em Python"
   ]
  },
  {
   "cell_type": "code",
   "execution_count": null,
   "metadata": {},
   "outputs": [],
   "source": [
    "valor = '' #pode ser numero, string e booleano\n",
    "print(valor) "
   ]
  },
  {
   "attachments": {},
   "cell_type": "markdown",
   "metadata": {},
   "source": [
    "## Saídas em diferentes versões"
   ]
  },
  {
   "cell_type": "code",
   "execution_count": null,
   "metadata": {},
   "outputs": [],
   "source": [
    "print('Olá, mundo')\n",
    "print(3+4)\n",
    "print('2+3')\n",
    "print('2'+'3')\n",
    "print('olá,'+'mundo')\n",
    "print('ola,','mundo')\n",
    "print('olá,', 2+5)\n",
    "print(2 + 3*3)\n",
    "print(4**2 /3)\n",
    "print((9**2 + 2)*6-1)"
   ]
  },
  {
   "attachments": {},
   "cell_type": "markdown",
   "metadata": {},
   "source": [
    "## Variáveis\n",
    "\n",
    "Variáveis guardam valores (dados)"
   ]
  },
  {
   "cell_type": "code",
   "execution_count": null,
   "metadata": {},
   "outputs": [],
   "source": [
    "nota = 8.5\n",
    "disciplina = 'Lógica de Programação e algoritmos'\n",
    "print('')\n",
    "print(nota)\n",
    "print(disciplina)\n",
    "print('Disciplina:',disciplina,'. Nota:',nota)"
   ]
  },
  {
   "attachments": {},
   "cell_type": "markdown",
   "metadata": {},
   "source": [
    "### Tipos de variáveis"
   ]
  },
  {
   "attachments": {},
   "cell_type": "markdown",
   "metadata": {},
   "source": [
    "#### Variáveis Numéricas"
   ]
  },
  {
   "cell_type": "code",
   "execution_count": null,
   "metadata": {},
   "outputs": [],
   "source": [
    "sentidoVida = 42\n",
    "print('O número',sentidoVida,'é o sentido da vida')"
   ]
  },
  {
   "attachments": {},
   "cell_type": "markdown",
   "metadata": {},
   "source": [
    "#### Variávies Booleanos"
   ]
  },
  {
   "cell_type": "code",
   "execution_count": null,
   "metadata": {},
   "outputs": [],
   "source": [
    "a = 1\n",
    "b = 5\n",
    "resposta = a == b\n",
    "print(resposta)\n",
    "resposta = a != b\n",
    "print(resposta)"
   ]
  },
  {
   "cell_type": "code",
   "execution_count": null,
   "metadata": {},
   "outputs": [],
   "source": [
    "notaAluno = 5\n",
    "notaResultado = notaAluno >= 7\n",
    "print(notaResultado)"
   ]
  },
  {
   "attachments": {},
   "cell_type": "markdown",
   "metadata": {},
   "source": [
    "#### Variáveis de Cadeia de Caracteres (Strings)"
   ]
  },
  {
   "cell_type": "code",
   "execution_count": null,
   "metadata": {},
   "outputs": [],
   "source": [
    "# Indíce de caracteres\n",
    "disciplina = 'Lógica de Programação e algoritmos'\n",
    "print(disciplina[5]) "
   ]
  },
  {
   "attachments": {},
   "cell_type": "markdown",
   "metadata": {},
   "source": [
    "##### Manipulação de Strings"
   ]
  },
  {
   "attachments": {},
   "cell_type": "markdown",
   "metadata": {},
   "source": [
    "###### ....\n",
    "Concatenação"
   ]
  },
  {
   "cell_type": "code",
   "execution_count": null,
   "metadata": {},
   "outputs": [],
   "source": [
    "s1 = 'Lógica de Programação'\n",
    "s1 = s1 + ' e Algoritmos'\n",
    "print(s1)"
   ]
  },
  {
   "cell_type": "code",
   "execution_count": null,
   "metadata": {},
   "outputs": [],
   "source": [
    "s1 = 'A' + '-' * 10 + 'B'\n",
    "print(s1)"
   ]
  },
  {
   "cell_type": "code",
   "execution_count": null,
   "metadata": {},
   "outputs": [],
   "source": [
    "s1 = 'Lógica de Programação'\n",
    "print(s1)\n",
    "s2 = 'Lógica de Programação', 10\n",
    "print(s2)\n",
    "s3 = s1, 10\n",
    "print(s3)\n",
    "print(s1,10)"
   ]
  },
  {
   "cell_type": "code",
   "execution_count": null,
   "metadata": {},
   "outputs": [],
   "source": [
    "s1 = 'Python ' + '-' * 5 + ' C ' + '-' * 5 + ' Java ' + '-' * 5 + ' PHP '\n",
    "print(s1)\n",
    "s2 = 'Python ' + '-' * 5 + '\\n C ' + '-' * 5 + '\\n Java ' + '-' * 5 + '\\n PHP '\n",
    "print(s2)\n",
    "s3 = 'Python ' + '-' * 5 + '\\t C ' + '-' * 5 + '\\t Java ' + '-' * 5 + '\\t PHP '\n",
    "print(s3)"
   ]
  },
  {
   "attachments": {},
   "cell_type": "markdown",
   "metadata": {},
   "source": [
    "###### ...\n",
    "Composição"
   ]
  },
  {
   "cell_type": "code",
   "execution_count": null,
   "metadata": {},
   "outputs": [],
   "source": [
    "nota = 8.5\n",
    "\n",
    "#Substitui onde fica a porcentagem em caso de número flutuante\n",
    "s1 = 'Você tirou %f na disciplina de Algoritmos' % nota \n",
    "print(s1)"
   ]
  },
  {
   "cell_type": "code",
   "execution_count": null,
   "metadata": {},
   "outputs": [],
   "source": [
    "nota = 8.5\n",
    "\n",
    "#Delimita o número de casas depois do ponto\n",
    "s1 = 'Você tirou %.1f na disciplina de Algoritmos' % nota  \n",
    "print(s1)"
   ]
  },
  {
   "cell_type": "code",
   "execution_count": null,
   "metadata": {},
   "outputs": [],
   "source": [
    "nota = 8.5\n",
    "\n",
    "#Substitui onde fica a porcentagem em caso de número inteiro ou converte\n",
    "s1 = 'Você tirou %d na disciplina de Algoritmos' % nota  \n",
    "print(s1)"
   ]
  },
  {
   "cell_type": "code",
   "execution_count": null,
   "metadata": {},
   "outputs": [],
   "source": [
    "nota = 8.5\n",
    "disciplina = 'Algoritmos'\n",
    "#Substitui a primeira porcentagem do tipo inteiro e a última do tipo string\n",
    "s1 = 'Você tirou %d na disciplina de %s' % (nota, disciplina)  \n",
    "print(s1)"
   ]
  },
  {
   "cell_type": "code",
   "execution_count": null,
   "metadata": {},
   "outputs": [],
   "source": [
    "nota = 8.5\n",
    "disciplina = 'Algoritmos'\n",
    "#Funciona da mesma maneira\n",
    "s1 = 'Você tirou {} na disciplina de {}'.format(nota,disciplina)  "
   ]
  },
  {
   "cell_type": "code",
   "execution_count": null,
   "metadata": {},
   "outputs": [],
   "source": [
    "comidaFav = 'Camarão'\n",
    "anoNasc = 2002\n",
    "anoIdadeDiv = 2002/21\n",
    "s1 = 'Nasci em %d, tenho 21 anos, minha comida favorita é %s e o resultado é %.2f' % (anoNasc,comidaFav,anoIdadeDiv)\n",
    "s2 = 'Nasci em {}, tenho 21 anos, minha comida favorita é {} e o resultado é {}'.format(anoNasc,comidaFav,anoIdadeDiv)\n",
    "print(s1)\n",
    "print(s2)"
   ]
  },
  {
   "attachments": {},
   "cell_type": "markdown",
   "metadata": {},
   "source": [
    "###### ...\n",
    "Fatiamento"
   ]
  },
  {
   "cell_type": "code",
   "execution_count": null,
   "metadata": {},
   "outputs": [],
   "source": [
    "s1 = 'Lógica de Programação e Algoritmos'\n",
    "print(s1[0:6])"
   ]
  },
  {
   "cell_type": "code",
   "execution_count": null,
   "metadata": {},
   "outputs": [],
   "source": [
    "s1 = 'Lógica de Programação e Algoritmos'\n",
    "print(s1[0:])"
   ]
  },
  {
   "cell_type": "code",
   "execution_count": null,
   "metadata": {},
   "outputs": [],
   "source": [
    "s1 = 'Lógica de Programação e Algoritmos'\n",
    "print(s1[:6])"
   ]
  },
  {
   "cell_type": "code",
   "execution_count": null,
   "metadata": {},
   "outputs": [],
   "source": [
    "s1 = 'Lógica de Programação e Algoritmos'\n",
    "print(s1[:])"
   ]
  },
  {
   "cell_type": "code",
   "execution_count": null,
   "metadata": {},
   "outputs": [],
   "source": [
    "s1 = 'Lógica de Programação e Algoritmos'\n",
    "print(s1[24:34])"
   ]
  },
  {
   "cell_type": "code",
   "execution_count": null,
   "metadata": {},
   "outputs": [],
   "source": [
    "s1 = 'Lógica de Programação e Algoritmos'\n",
    "print(s1[-24:-1])"
   ]
  },
  {
   "attachments": {},
   "cell_type": "markdown",
   "metadata": {},
   "source": [
    "###### ...\n",
    "Função Len"
   ]
  },
  {
   "cell_type": "code",
   "execution_count": null,
   "metadata": {},
   "outputs": [],
   "source": [
    "s1 = 'Lógica de Programação e Algoritmos'\n",
    "tamanho = len(s1)\n",
    "print(tamanho)"
   ]
  },
  {
   "cell_type": "code",
   "execution_count": null,
   "metadata": {},
   "outputs": [],
   "source": [
    "nome = 'Alessandra Teles Reis de Souza'\n",
    "resultado = len(nome) <= 15\n",
    "print(resultado)"
   ]
  },
  {
   "attachments": {},
   "cell_type": "markdown",
   "metadata": {},
   "source": [
    "#####  ...\n",
    "Convertendo string para número"
   ]
  },
  {
   "cell_type": "code",
   "execution_count": null,
   "metadata": {},
   "outputs": [],
   "source": [
    "nota = float(input('Qual nota você recebeu na disciplina?'))\n",
    "print('Você tirou a nota {}'.format(nota))"
   ]
  },
  {
   "cell_type": "code",
   "execution_count": null,
   "metadata": {},
   "outputs": [],
   "source": [
    "x = int(input('Digite um número inteiro:'))\n",
    "y = int(input('Digite outro número inteiro:'))\n",
    "\n",
    "res = 'O resultado da soma de %i e %i é igual a %i' % (x, y, x+y)\n",
    "print(res)\n",
    "res = 'O resultado da soma de {} e {} é igual a {}'.format(x,y,x+y)\n",
    "print(res)"
   ]
  },
  {
   "cell_type": "code",
   "execution_count": null,
   "metadata": {},
   "outputs": [],
   "source": [
    "d = int(input('Qual a quantidade de dias?'))\n",
    "h = int(input('Qual a quantidade de horas?'))\n",
    "m = int(input('Qual a quantidade de minutos?'))\n",
    "s = int(input('Qual a quantidade de segundos?'))\n",
    "\n",
    "result = s + (m * 60) + (h * 60 * 60) + (d * 24 * 60 * 60) \n",
    "\n",
    "print('O total de segundos é de %i' % result)\n",
    "print('O total de segundos é de {}'.format(result))"
   ]
  },
  {
   "cell_type": "code",
   "execution_count": null,
   "metadata": {},
   "outputs": [],
   "source": [
    "preco = float(input('Qual é o preço do produto?'))\n",
    "p = float(input('Qual é o percentual solicitado?'))\n",
    "\n",
    "desconto = preco * (p/100)\n",
    "\n",
    "final = preco - desconto\n",
    "\n",
    "print('O preço do produto é %.2f, com o desconto de %.2f  o preço fica por %.2f' % (preco, p, final))\n",
    "print('O preço do produto é {}, com o desconto de {}  o preço fica por {}'.format(preco, p, final))"
   ]
  },
  {
   "cell_type": "code",
   "execution_count": 17,
   "metadata": {},
   "outputs": [
    {
     "name": "stdout",
     "output_type": "stream",
     "text": [
      "A temperatura 45.000000 C em Fahrenheit é 113.000000\n",
      "A temperatura 45.0 C em Fahrenheit é 113.0\n"
     ]
    }
   ],
   "source": [
    "c = float(input('Digite a temperatura em Celsius que deseja converter para Fahrenheit: '))\n",
    "\n",
    "result = 32 + (9*c/5)\n",
    "\n",
    "print('A temperatura %f C em Fahrenheit é %f' % (c, result))\n",
    "print('A temperatura {} C em Fahrenheit é {}'.format(c, result))"
   ]
  },
  {
   "attachments": {},
   "cell_type": "markdown",
   "metadata": {},
   "source": [
    "## Atividades"
   ]
  },
  {
   "attachments": {},
   "cell_type": "markdown",
   "metadata": {},
   "source": [
    "### Exercícios de Fixação"
   ]
  },
  {
   "cell_type": "code",
   "execution_count": null,
   "metadata": {},
   "outputs": [],
   "source": [
    "# Somatóro dos 5 primeiros números inteiros positivos\n",
    "result = 1+2+3+4+5\n",
    "print(result)"
   ]
  },
  {
   "cell_type": "code",
   "execution_count": null,
   "metadata": {},
   "outputs": [],
   "source": [
    "# Média entre 23, 19 e 31\n",
    "result = (23 + 19 + 31)/3\n",
    "print(result)"
   ]
  },
  {
   "cell_type": "code",
   "execution_count": null,
   "metadata": {},
   "outputs": [],
   "source": [
    "# Número de vezes que 73 cabe em 403\n",
    "result = 403 // 73 #Operador Mat Divisão pt/Inteira\n",
    "print(result)"
   ]
  },
  {
   "cell_type": "code",
   "execution_count": 25,
   "metadata": {},
   "outputs": [
    {
     "name": "stdout",
     "output_type": "stream",
     "text": [
      "38\n"
     ]
    }
   ],
   "source": [
    "# Resto da divisão anterior\n",
    "result = 403 % 73\n",
    "print(result)"
   ]
  },
  {
   "cell_type": "code",
   "execution_count": 26,
   "metadata": {},
   "outputs": [
    {
     "name": "stdout",
     "output_type": "stream",
     "text": [
      "100\n"
     ]
    }
   ],
   "source": [
    "# 2 elevado a 10 potencia\n",
    "result = 10**2\n",
    "print(result)"
   ]
  },
  {
   "cell_type": "code",
   "execution_count": 27,
   "metadata": {},
   "outputs": [
    {
     "name": "stdout",
     "output_type": "stream",
     "text": [
      "3\n"
     ]
    }
   ],
   "source": [
    "# Valor absoluto da diferença de 54 e 57\n",
    "result = abs(54-57)\n",
    "print(result)"
   ]
  },
  {
   "cell_type": "code",
   "execution_count": null,
   "metadata": {},
   "outputs": [],
   "source": [
    "# Menor valor entre 34, 29, 31\n",
    "result = min(34,29,31)\n",
    "print(result)\n",
    "# Menor valor entre 34, 29, 31\n",
    "result = max(34,29,31)\n",
    "print(result)"
   ]
  },
  {
   "cell_type": "code",
   "execution_count": 29,
   "metadata": {},
   "outputs": [
    {
     "name": "stdout",
     "output_type": "stream",
     "text": [
      "25\n"
     ]
    }
   ],
   "source": [
    "a = 3\n",
    "b = 4\n",
    "c = a*a + b*b\n",
    "\n",
    "print(c)"
   ]
  },
  {
   "cell_type": "code",
   "execution_count": null,
   "metadata": {},
   "outputs": [],
   "source": [
    "# Exibir saídas como abaixo\n",
    "s1 = 'ant'\n",
    "s2 = 'bat'\n",
    "s3 = 'cod'\n",
    "\n",
    "#  'ant bat cod'\n",
    "print(s1,s2,s3)\n",
    "print(s1+' '+s2+' '+s3)\n",
    "print(\"\")\n",
    "\n",
    "# 10x com espaço\n",
    "print((s1+' ')*10)\n",
    "print(\"\")\n",
    "\n",
    "# ant bat bat cod cod cod\n",
    "print(s1, (s2+' ')*2 + (s3+' ')*3)\n",
    "print(\"\")\n",
    "\n",
    "# ant bat 7x\n",
    "print((s1 + ' ' + s2 + ' ')*7)\n",
    "print(\"\")\n",
    "\n",
    "# batbatcod 3x\n",
    "print((s2*2+s3+' ')*4)"
   ]
  },
  {
   "attachments": {},
   "cell_type": "markdown",
   "metadata": {},
   "source": [
    "### Problemas"
   ]
  },
  {
   "cell_type": "code",
   "execution_count": null,
   "metadata": {},
   "outputs": [],
   "source": [
    "# Desconto de produto\n",
    "preco = float(input('Digite o preço:'))\n",
    "percentual = float(input('Digite o percentual de desconto:'))\n",
    "\n",
    "perc = preco * (percentual/100)\n",
    "result = preco - perc\n",
    "\n",
    "print('O preço do produto é {}'.format(preco))\n",
    "print('Desconto de {}'.format(percentual))\n",
    "print('Sobre o preço, equivale a {}'.format(perc))\n",
    "print('Tendo o preço com desconto:{}'.format(result))\n",
    "print('')\n",
    "print('O preço do produto é %f com o percentual de desconto %f equivalente a %f tendo o preço com desconto: %f' % (preco, percentual, perc, result))"
   ]
  },
  {
   "cell_type": "code",
   "execution_count": null,
   "metadata": {},
   "outputs": [],
   "source": [
    "# Aluguel de carro\n",
    "quantKM = int(input('Digite a quantidade em Km percorridos:'))\n",
    "quantDias = int(input('Digite a quantidade de dias de aluguel do carro:'))\n",
    "\n",
    "result = 60 * quantDias + 0.15 * quantKM\n",
    "\n",
    "print('O preço a pagar é {}'.format(result))"
   ]
  },
  {
   "cell_type": "code",
   "execution_count": null,
   "metadata": {},
   "outputs": [],
   "source": [
    "fraseQualquer = input('Digite uma frase:')\n",
    "segundametade = fraseQualquer[len(fraseQualquer)//2:len(fraseQualquer)]\n",
    "utlimos = segundametade[len(segundametade)-2:len(segundametade)]\n",
    "\n",
    "print(fraseQualquer)\n",
    "print(segundametade)\n",
    "print(utlimos)"
   ]
  },
  {
   "attachments": {},
   "cell_type": "markdown",
   "metadata": {},
   "source": [
    "# Aula 3"
   ]
  },
  {
   "attachments": {},
   "cell_type": "markdown",
   "metadata": {},
   "source": [
    "## Estrutura condicional\n",
    "\n",
    "Instruções a serem executadas de acordo com tal condição já definida."
   ]
  },
  {
   "attachments": {},
   "cell_type": "markdown",
   "metadata": {},
   "source": [
    "### Condicional Simples"
   ]
  },
  {
   "cell_type": "code",
   "execution_count": null,
   "metadata": {},
   "outputs": [],
   "source": [
    "n1 = int(input('Digite o primeiro valor inteiro:'))\n",
    "n2 = int(input('Digite o segundo valor inteiro:'))\n",
    "\n",
    "if(n1 > n2):\n",
    "    print('O primeiro valor digitado:',n1,'é maior que o segundo valor:',n2)\n",
    "\n",
    "if(n1 < n2):\n",
    "    print('O segundo valor digitado:',n2,'é maior que o primeiro valor:',n1)\n",
    "\n",
    "if(n1 == n2):\n",
    "    print('O primeiro valor digitado:',n1,'e o segundo valor:',n2, 'são iguais.')\n",
    "\n"
   ]
  },
  {
   "cell_type": "code",
   "execution_count": null,
   "metadata": {},
   "outputs": [],
   "source": [
    "ano = int(input('Digite o ano que nasceu:'))\n",
    "anoAtual = int(input('Digite o ano atual:'))\n",
    "\n",
    "idade = anoAtual - ano\n",
    "\n",
    "print('Você tem {} anos de idade.'.format(idade))\n",
    "if(idade >= 18):\n",
    "    print('Já possível tirar a carteira de motorista!')"
   ]
  },
  {
   "attachments": {},
   "cell_type": "markdown",
   "metadata": {},
   "source": [
    "### Condicional composta"
   ]
  },
  {
   "cell_type": "code",
   "execution_count": null,
   "metadata": {},
   "outputs": [],
   "source": [
    "n1 = int(input('Digite o primeiro valor inteiro:'))\n",
    "\n",
    "if(n1%2 == 0):\n",
    "    print('O valor digitado:',n1,'é par')\n",
    "else:\n",
    "    print('O valor digitado:',n1,'é ímpar')\n",
    "\n",
    "if(n1%7 == 0):\n",
    "    print('O valor digitado:',n1,'é múltiplo de 7.')\n",
    "else:\n",
    "    print('O valor digitado:',n1,'é não é múltiplo de 7.')"
   ]
  },
  {
   "cell_type": "code",
   "execution_count": null,
   "metadata": {},
   "outputs": [],
   "source": [
    "ano = int(input('Digite o ano que entrou na empresa:'))\n",
    "anoAtual = int(input('Digite o ano atual:'))\n",
    "salario = float(input('Digite o seu salário atual:'))\n",
    "periodo = anoAtual - ano\n",
    "\n",
    "if(periodo > 5):\n",
    "    bonus = salario * 0.2\n",
    "else:\n",
    "    bonus = salario * 0.1\n",
    "\n",
    "print('Você tem {} anos dentro desta empresa.'.format(periodo))\n",
    "print('Seu salário é de {}'.format(salario))\n",
    "print('E sua bonificação é de {}'.format(bonus))\n",
    "print('Salário final: {}'.format(bonus+salario))"
   ]
  },
  {
   "attachments": {},
   "cell_type": "markdown",
   "metadata": {},
   "source": [
    "### Condição Alinhada"
   ]
  },
  {
   "cell_type": "code",
   "execution_count": null,
   "metadata": {},
   "outputs": [],
   "source": [
    "print('O que deseja comprar?')\n",
    "print('1 - Maçã')\n",
    "print('2 - Laranja')\n",
    "print('3 - Banana')\n",
    "opcao = int(input('Qual a opção?'))\n",
    "quant = int(input('Quantas irá querer?'))\n",
    "\n",
    "if(opcao == 1):\n",
    "    pagar = quant * 2.3\n",
    "    print('Por maçã é R$2,30. Com {} unidades, o valor total é {}'.format(quant,pagar))\n",
    "else:\n",
    "    if(opcao == 2):\n",
    "        pagar = quant * 3.6\n",
    "        print('Por maçã é R$3,60. Com {} unidades, o valor total é {}'.format(quant,pagar))\n",
    "    else:\n",
    "        if(opcao == 3):\n",
    "            pagar = quant * 1.85\n",
    "            print('Por maçã é R$1,85. Com {} unidades, o valor total é {}'.format(quant,pagar))\n",
    "        else:\n",
    "            print('Produto inexistente')"
   ]
  },
  {
   "cell_type": "code",
   "execution_count": null,
   "metadata": {},
   "outputs": [],
   "source": [
    "ano = int(input('Digite o ano que entrou na empresa:'))\n",
    "anoAtual = int(input('Digite o ano atual:'))\n",
    "salario = float(input('Digite o seu salário atual:'))\n",
    "periodo = anoAtual - ano\n",
    "\n",
    "if (periodo > 10):\n",
    "    bonus = salario * 0.3\n",
    "else:\n",
    "    if(periodo > 5):\n",
    "        bonus = salario * 0.2\n",
    "    else:\n",
    "        bonus = salario * 0.1\n",
    "\n",
    "print('Você tem {} anos dentro desta empresa.'.format(periodo))\n",
    "print('Seu salário é de {}'.format(salario))\n",
    "print('E sua bonificação é de {}'.format(bonus))\n",
    "print('Salário final: {}'.format(bonus+salario))"
   ]
  },
  {
   "cell_type": "code",
   "execution_count": null,
   "metadata": {},
   "outputs": [],
   "source": [
    "A = int(input('Digite o valor da primeria ponta do triângulo:'))\n",
    "B = int(input('Digite o valor da segunda ponta do triângulo:'))\n",
    "C = int(input('Digite o valor da terceira ponta do triângulo:'))\n",
    "\n",
    "if(A > 0 and B > 0 and C > 0):\n",
    "    if(A + B > C and A + C > B and B + C > A):\n",
    "        #Triângulo válido \n",
    "        if(A != B and A != C and B != C):\n",
    "            print('Triângulo escaleno')\n",
    "        else:\n",
    "            if(A == B and B == C):\n",
    "                print('Triângulo equilátero')\n",
    "            else:\n",
    "                print('Triângulo isósceles')\n",
    "    else:\n",
    "        print('Um dos valores indicados não serve para formar um triângulo.')\n",
    "else:\n",
    "    print('Um dos valores indicados não serve para formar um triângulo.')"
   ]
  },
  {
   "attachments": {},
   "cell_type": "markdown",
   "metadata": {},
   "source": [
    "### Condição de Múltipla Escolha"
   ]
  },
  {
   "cell_type": "code",
   "execution_count": null,
   "metadata": {},
   "outputs": [],
   "source": [
    "print('O que deseja comprar?')\n",
    "print('1 - Maçã')\n",
    "print('2 - Laranja')\n",
    "print('3 - Banana')\n",
    "opcao = int(input('Qual a opção?'))\n",
    "quant = int(input('Quantas irá querer?'))\n",
    "\n",
    "if(opcao == 1):\n",
    "    pagar = quant * 2.3\n",
    "    print('Por maçã é R$2,30. Com {} unidades, o valor total é {}'.format(quant,pagar))\n",
    "elif(opcao == 2):\n",
    "    pagar = quant * 3.6\n",
    "    print('Por maçã é R$3,60. Com {} unidades, o valor total é {}'.format(quant,pagar))\n",
    "elif(opcao == 3):\n",
    "    pagar = quant * 1.85\n",
    "    print('Por maçã é R$1,85. Com {} unidades, o valor total é {}'.format(quant,pagar))\n",
    "else:\n",
    "    print('Produto inexistente')"
   ]
  },
  {
   "cell_type": "code",
   "execution_count": null,
   "metadata": {},
   "outputs": [],
   "source": [
    "nome = input('Digite o seu nome:')\n",
    "idade = int(input('Digite a sua idade:'))\n",
    "\n",
    "if(nome == 'Vinícios'):\n",
    "    print('Olá {}'.format(nome))\n",
    "elif(idade < 18):\n",
    "    print('Você não é Vinícios e é menor de idade!')\n",
    "elif(idade > 100):\n",
    "    print('Diferente de você, Vinícios não é imortal!')\n"
   ]
  },
  {
   "cell_type": "code",
   "execution_count": null,
   "metadata": {},
   "outputs": [],
   "source": [
    "print('CALCULADORA')\n",
    "print('Tem-se as opções abaixo:')\n",
    "print('+ Adição')\n",
    "print('- Subtração')\n",
    "print('* Multiplicação')\n",
    "print('/ Divisão')\n",
    "operador = input('Escolha uma das opções apresentadas:')\n",
    "v1 = int(input('Digite o primeiro valor:'))\n",
    "v2 = int(input('Digite o segundo valor:'))\n",
    "\n",
    "if(operador == '+'):\n",
    "    result = v1 + v2\n",
    "    print('Resultado: {}{}{} = {}'.format(v1,operador,v2,result))\n",
    "elif(operador == '-'):\n",
    "    result = v1 - v2\n",
    "    print('Resultado: {}{}{} = {}'.format(v1,operador,v2,result))\n",
    "elif(operador == '*'):\n",
    "    result = v1 * v2\n",
    "    print('Resultado: {}{}{} = {}'.format(v1,operador,v2,result))\n",
    "elif(operador == '/'):\n",
    "    result = v1 / v2\n",
    "    print('Resultado: {}{}{} = {}'.format(v1,operador,v2,result))\n",
    "else:\n",
    "    print('Operação inválida.')"
   ]
  },
  {
   "cell_type": "code",
   "execution_count": null,
   "metadata": {},
   "outputs": [],
   "source": [
    "print('PAGAMENTO')\n",
    "print('1 - Pagamento à vista - DESCONTO de 5%')\n",
    "print('2 - Pagamento em 3x - SEM JUROS')\n",
    "print('3 - Pagamento em 5x - com juros de 2%')\n",
    "print('3 - Pagamento em 10x - com juros de 8%')\n",
    "valor = float(input('Insira o valor do produto:'))\n",
    "pagamento = int(input('Selecione o método de pagamento:'))\n",
    "\n",
    "if(pagamento == 1):\n",
    "    valorFinal = valor - (valor * 0.05)\n",
    "    # valorFinal = valor * 0.95\n",
    "    print('Produto comprado à vista. Total a pagar:{}'.format(valorFinal))\n",
    "elif(pagamento == 2):\n",
    "    valorFinal = valor\n",
    "    parcela = valorFinal / 3\n",
    "    print('Produto parcelado em 3x. Total a pagar: {}. Valor da parcela: {}'.format(valorFinal,parcela))\n",
    "elif(pagamento == 2):\n",
    "    valorFinal = valor + (valor * 0.02)\n",
    "    # valorFinal = valor * 1.02\n",
    "    parcela = valorFinal / 5\n",
    "    print('Produto parcelado em 5x. Total a pagar: {}. Valor da parcela: {}'.format(valorFinal,parcela))\n",
    "elif(pagamento == 2):\n",
    "    valorFinal = valor + (valor * 0.08)\n",
    "    # valorFinal = valor * 1.08\n",
    "    parcela = valorFinal / 10\n",
    "    print('Produto parcelado em 10x. Total a pagar: {}. Valor da parcela: {}'.format(valorFinal,parcela))\n",
    "else:\n",
    "    print('Operação inválida.')"
   ]
  },
  {
   "attachments": {},
   "cell_type": "markdown",
   "metadata": {},
   "source": [
    "## Expressões lógicas e álgebra booleana"
   ]
  },
  {
   "attachments": {},
   "cell_type": "markdown",
   "metadata": {},
   "source": [
    "### Operadores Lógicos"
   ]
  },
  {
   "attachments": {},
   "cell_type": "markdown",
   "metadata": {},
   "source": [
    "#### Operador NOT\n",
    "\n",
    "O inverso: (Falso -> Verdadeiro) - (Verdadeiro -> Falso)"
   ]
  },
  {
   "cell_type": "code",
   "execution_count": null,
   "metadata": {},
   "outputs": [],
   "source": [
    "x = True\n",
    "y = False\n",
    "\n",
    "print(not x)\n",
    "print(not y)"
   ]
  },
  {
   "attachments": {},
   "cell_type": "markdown",
   "metadata": {},
   "source": [
    "#### Operador AND\n",
    "\n",
    "Ambas entradas forem verdadeiras."
   ]
  },
  {
   "cell_type": "code",
   "execution_count": null,
   "metadata": {},
   "outputs": [],
   "source": [
    "x = True\n",
    "y = False\n",
    "\n",
    "print(x and y)"
   ]
  },
  {
   "attachments": {},
   "cell_type": "markdown",
   "metadata": {},
   "source": [
    "#### Operador OR\n",
    "\n",
    "Uma ou as duas das entradas for verdadeira"
   ]
  },
  {
   "cell_type": "code",
   "execution_count": null,
   "metadata": {},
   "outputs": [],
   "source": [
    "x = True\n",
    "y = False\n",
    "\n",
    "print(x or y)"
   ]
  },
  {
   "attachments": {},
   "cell_type": "markdown",
   "metadata": {},
   "source": [
    "### Ordem de precedência dos operadores"
   ]
  },
  {
   "cell_type": "code",
   "execution_count": null,
   "metadata": {},
   "outputs": [],
   "source": [
    "x = 10\n",
    "y = 1\n",
    "z = 5.5\n",
    "\n",
    "# Primerio o operador relacional\n",
    "res = x > y \n",
    "\n",
    "print(res)\n",
    "\n",
    "# Depois o operador lógico NOT\n",
    "res = not res\n",
    "print(res)\n",
    "\n",
    "res = not x > y\n",
    "print(res)"
   ]
  },
  {
   "cell_type": "code",
   "execution_count": null,
   "metadata": {},
   "outputs": [],
   "source": [
    "x = 10\n",
    "y = 1\n",
    "z = 5.5\n",
    "\n",
    "# Primeiro os operadores relacionais, se não houver o operador lógico NOT, será o AND\n",
    "# Senão, será o NOT antes do AND\n",
    "res = x > y and z == y\n",
    "print(res)"
   ]
  },
  {
   "cell_type": "code",
   "execution_count": null,
   "metadata": {},
   "outputs": [],
   "source": [
    "x = 10 \n",
    "y = 1\n",
    "z = 5.5\n",
    "\n",
    "# Parênteses\n",
    "# Aritméticos Potenciação ou raiz\n",
    "# Aritméticos Multiplicação, Divisão e Módulo\n",
    "# Aritméticos Adição e Subtração\n",
    "# Operadores Relacionais\n",
    "# Lógico NOT\n",
    "# Lógico AND\n",
    "# Lógico OR\n",
    "# Atribuições\n",
    "\n",
    "res = x > y or not z == y and y != y + z / x\n",
    "print(res)"
   ]
  },
  {
   "cell_type": "code",
   "execution_count": null,
   "metadata": {},
   "outputs": [],
   "source": [
    "m1 = float(input('Digite a nota da 1 matéria:'))\n",
    "m2 = float(input('Digite a nota da 2 matéria:'))\n",
    "m3 = float(input('Digite a nota da 3 matéria:'))\n",
    "\n",
    "if(m1 >= 7 and m2 >= 7 and m3 >= 7):\n",
    "    print('Aluno aprovado no ano letivo!')\n",
    "else:\n",
    "    print('Aluno não passou de ano.')"
   ]
  },
  {
   "cell_type": "code",
   "execution_count": null,
   "metadata": {},
   "outputs": [],
   "source": [
    "valor = int(input('Digite um valor inteiro:'))\n",
    "\n",
    "if(valor >= 1 and valor <= 100 or valor >= -100 and valor <= -1):\n",
    "    print('Está incluído no intervalo!')\n",
    "else:\n",
    "    print('Não está incluído.')"
   ]
  },
  {
   "attachments": {},
   "cell_type": "markdown",
   "metadata": {},
   "source": [
    "## Atividades"
   ]
  },
  {
   "attachments": {},
   "cell_type": "markdown",
   "metadata": {},
   "source": [
    "### Exercícios de Fixação"
   ]
  },
  {
   "cell_type": "code",
   "execution_count": null,
   "metadata": {},
   "outputs": [],
   "source": [
    "# Expressões Booleanas\n",
    "\n",
    "print(2+2 < 4)\n",
    "print(7 // 3 == 1 + 1)\n",
    "print(3**2 + 4**2 == 25)\n",
    "print(2+4+6 > 12)\n",
    "print(1387%19 == 0) # É divisível por\n",
    "print(31%2==0)# é par ou não\n",
    "print(min(34,29,31) < 30)"
   ]
  },
  {
   "cell_type": "code",
   "execution_count": null,
   "metadata": {},
   "outputs": [],
   "source": [
    "# Condicional Simples\n",
    "\n",
    "if(idade > 60):\n",
    "    print('Você tem direitos aos benefícios')\n",
    "\n",
    "if(dano > 10 and escudo == 0):\n",
    "    print('Você está morto.')\n",
    "\n",
    "if(norte or sul or leste or oeste):\n",
    "    print('Você escapou!')"
   ]
  },
  {
   "cell_type": "code",
   "execution_count": null,
   "metadata": {},
   "outputs": [],
   "source": [
    "# Condicional composta\n",
    "\n",
    "if(ano%4 == 0):\n",
    "    print(\"Pode ser um ano bissexto.\")\n",
    "else:\n",
    "    print(\"Definitivamente não é um ano bissexto.\")\n",
    "\n",
    "if(cima and baixo):\n",
    "    print(\"Decida-se!\")\n",
    "else:\n",
    "    print(\"Você escolheu um caminho!\")"
   ]
  },
  {
   "attachments": {},
   "cell_type": "markdown",
   "metadata": {},
   "source": [
    "### Problemas"
   ]
  },
  {
   "cell_type": "code",
   "execution_count": null,
   "metadata": {},
   "outputs": [],
   "source": [
    "A = int(input('Digite o valor da primeiro lado do triângulo:'))\n",
    "B = int(input('Digite o valor da segundo lado do triângulo:'))\n",
    "C = int(input('Digite o valor da terceiro lado do triângulo:'))\n",
    "\n",
    "# Nenhum pode ser igual a zero\n",
    "if(A > 0 and B > 0 and C > 0):\n",
    "    # Um lado não pode ser maior que soma dos outros dois\n",
    "    if(A + B > C and A + C > B and B + C > A):\n",
    "        #Triângulo válido \n",
    "        if(A != B and A != C and B != C):\n",
    "            print('Triângulo escaleno')\n",
    "        else:\n",
    "            if(A == B and B == C):\n",
    "                print('Triângulo equilátero')\n",
    "            else:\n",
    "                print('Triângulo isósceles')\n",
    "    else:\n",
    "        print('Um dos valores indicados não serve para formar um triângulo.')\n",
    "else:\n",
    "    print('Um dos valores indicados não serve para formar um triângulo.')"
   ]
  },
  {
   "cell_type": "code",
   "execution_count": null,
   "metadata": {},
   "outputs": [],
   "source": [
    "print('CALCULADORA')\n",
    "print('Tem-se as opções abaixo:')\n",
    "print('+ Adição')\n",
    "print('- Subtração')\n",
    "print('* Multiplicação')\n",
    "print('/ Divisão')\n",
    "operador = input('Escolha uma das opções apresentadas:')\n",
    "v1 = int(input('Digite o primeiro valor:'))\n",
    "v2 = int(input('Digite o segundo valor:'))\n",
    "\n",
    "if(operador == '+'):\n",
    "    result = v1 + v2\n",
    "elif(operador == '-'):\n",
    "    result = v1 - v2\n",
    "elif(operador == '*'):\n",
    "    result = v1 * v2\n",
    "elif(operador == '/'):\n",
    "    result = v1 / v2\n",
    "\n",
    "print('Resultado: {}{}{} = {}'.format(v1,operador,v2,result))"
   ]
  },
  {
   "cell_type": "code",
   "execution_count": null,
   "metadata": {},
   "outputs": [],
   "source": [
    "print('CALCULADORA DE PREÇO DE ENERGIA ELÉTRICA')\n",
    "\n",
    "Kwh = float(input('Diga a quantidade de kWh que foi consumida:'))\n",
    "\n",
    "print('Escolha o tipo de instalação:')\n",
    "print('R - Residências')\n",
    "print('I - Indústrias')\n",
    "print('C - Comércios')\n",
    "tipo = input('...')\n",
    "\n",
    "if(tipo == 'R' or tipo == 'r'):\n",
    "    if(Kwh <= 500):\n",
    "        preco = 0.4\n",
    "    else:\n",
    "        preco = 0.65\n",
    "elif(tipo == 'I' or tipo == 'i'):\n",
    "    if(Kwh <= 5000):\n",
    "        preco = 0.55\n",
    "    else:\n",
    "        preco = 0.6\n",
    "elif(tipo == 'C' or tipo == 'c'):\n",
    "    if(Kwh <= 1000):\n",
    "        preco = 0.55\n",
    "    else:\n",
    "        preco = 0.6\n",
    "else:\n",
    "    print('Tipo Inválido')\n",
    "\n",
    "if(preco):\n",
    "    print('Total a pagar: {}'.format(Kwh*preco))\n",
    "\n"
   ]
  },
  {
   "attachments": {},
   "cell_type": "markdown",
   "metadata": {},
   "source": [
    "## Aula ao Vivo"
   ]
  },
  {
   "attachments": {},
   "cell_type": "markdown",
   "metadata": {},
   "source": [
    "### QUESTÃO 1"
   ]
  },
  {
   "cell_type": "code",
   "execution_count": null,
   "metadata": {},
   "outputs": [],
   "source": [
    "print('Bem vindo a Loja da Alessandra Teles Reis de Souza')\n",
    "valorProduto = float(input('Entre com o valor do produto: ')) # Inserir o valor\n",
    "quantidadeProduto = int(input('Entre com a quantidade do produto: ')) # Inserir a quantidade\n",
    "desconto = 0 # Definir a variável do desconto\n",
    "\n",
    "if(quantidadeProduto < 200):\n",
    "    # Se a quantidade for menor que 200\n",
    "    desconto = 0.00\n",
    "elif(quantidadeProduto >= 200 and quantidadeProduto < 1000):\n",
    "    # Se a quantidade for entre 200 e 999\n",
    "    # 200 <= quantidadeProduto < 1000\n",
    "    desconto = 0.05\n",
    "elif(quantidadeProduto >= 1000 and quantidadeProduto < 2000):\n",
    "    # Se a quantidade for entre 1000 e 1999\n",
    "    desconto = 0.10\n",
    "else:\n",
    "    # Se for maior ou igual a 2000\n",
    "    desconto = 0.15\n",
    "\n",
    "# Cálculo para obter o valor total da compra.\n",
    "valorTotalProdutos = valorProduto * quantidadeProduto\n",
    "\n",
    "# Cálculo para obter o valor total com desconto.\n",
    "valorComDesconto = valorTotalProdutos - (valorTotalProdutos * desconto)\n",
    "\n",
    "# Resultado \n",
    "print('O valor SEM desconto: R$ %.2f' % valorTotalProdutos)\n",
    "print('O valor COM desconto: R$ %.2f' % valorComDesconto)\n",
    "print('O valor SEM desconto: R$ {:.2f}'.format(valorTotalProdutos))\n",
    "print('O valor COM desconto: R$ {:.2f}'.format(valorComDesconto))\n",
    "print(f'O valor SEM desconto: R$ {valorTotalProdutos}')\n",
    "print(f'O valor COM desconto: R$ {valorComDesconto}')"
   ]
  },
  {
   "attachments": {},
   "cell_type": "markdown",
   "metadata": {},
   "source": [
    "# Aula 4"
   ]
  },
  {
   "attachments": {},
   "cell_type": "markdown",
   "metadata": {},
   "source": [
    "## Estruturas de repetição"
   ]
  },
  {
   "attachments": {},
   "cell_type": "markdown",
   "metadata": {},
   "source": [
    "### WHILE (Enquanto)"
   ]
  },
  {
   "cell_type": "code",
   "execution_count": null,
   "metadata": {},
   "outputs": [],
   "source": [
    "n = 1\n",
    "\n",
    "while(n <= 5): # Mesmo que \"(x < 6)\"\n",
    "    print(n)\n",
    "    n = n + 1 "
   ]
  },
  {
   "cell_type": "code",
   "execution_count": null,
   "metadata": {},
   "outputs": [],
   "source": [
    "x = 0 # Inicialização/Variável de controle\n",
    "\n",
    "while(x <= 99): # Condição\n",
    "    print(x) # Instrução\n",
    "    x = x + 1 # Incremento/Variável de controle"
   ]
  },
  {
   "cell_type": "code",
   "execution_count": null,
   "metadata": {},
   "outputs": [],
   "source": [
    "x = 10\n",
    "\n",
    "while(x <= 1000):\n",
    "    print(x)\n",
    "    x = x + 1\n"
   ]
  },
  {
   "cell_type": "code",
   "execution_count": null,
   "metadata": {},
   "outputs": [],
   "source": [
    "x = 10\n",
    "\n",
    "while(x >= 0):\n",
    "    print(x)\n",
    "    x = x - 1\n",
    "\n",
    "print('Fogo!')"
   ]
  },
  {
   "attachments": {},
   "cell_type": "markdown",
   "metadata": {},
   "source": [
    "#### Contadora"
   ]
  },
  {
   "cell_type": "code",
   "execution_count": null,
   "metadata": {},
   "outputs": [],
   "source": [
    "inicial = int(input('Qual valor deseja iniciar a contagem?'))\n",
    "final = int(input('Qual valor deseja finalizar a contagem?'))\n",
    "\n",
    "if(inicial < final):\n",
    "    while(inicial <= final):\n",
    "        if(inicial % 2 == 0):\n",
    "            print(inicial)\n",
    "        inicial = inicial + 1\n",
    "else:\n",
    "    print('Insira o valor inicial menor que o final')\n"
   ]
  },
  {
   "cell_type": "code",
   "execution_count": null,
   "metadata": {},
   "outputs": [],
   "source": [
    "inicial = int(input('Qual valor deseja iniciar a contagem?'))\n",
    "final = int(input('Qual valor deseja finalizar a contagem?'))\n",
    "\n",
    "if(inicial < final):\n",
    "    while(inicial <= final and inicial % 2 == 0):\n",
    "        print(inicial)\n",
    "        inicial = inicial + 2\n",
    "else:\n",
    "    print('Insira o valor inicial menor que o final')"
   ]
  },
  {
   "cell_type": "code",
   "execution_count": null,
   "metadata": {},
   "outputs": [],
   "source": [
    "inicial = int(input('Qual valor deseja iniciar a contagem?'))\n",
    "final = int(input('Qual valor deseja finalizar a contagem?'))\n",
    "cont = 1\n",
    "\n",
    "if(inicial < final):\n",
    "    while(inicial <= final and cont <= 10):\n",
    "        if(inicial % 3 == 0):\n",
    "            print(inicial)\n",
    "            cont = cont + 1\n",
    "        inicial = inicial + 1\n",
    "else:\n",
    "    print('Insira o valor inicial menor que o final')\n"
   ]
  },
  {
   "cell_type": "code",
   "execution_count": null,
   "metadata": {},
   "outputs": [],
   "source": [
    "numeroTabu = int(input('Insira o número que deseja gerar a tabuada: '))\n",
    "\n",
    "x = 1\n",
    "\n",
    "print(\"Exemplo com a tabuada do 5\")\n",
    "while(x <= 10):\n",
    "    print(\"{} x {} = {}\".format(x, numeroTabu, x*numeroTabu))\n",
    "    x = x + 1"
   ]
  },
  {
   "cell_type": "code",
   "execution_count": null,
   "metadata": {},
   "outputs": [],
   "source": [
    "inicial = int(input('Qual valor inicial? '))\n",
    "final = int(input('Qual valor final? '))\n",
    "\n",
    "if(inicial < final):\n",
    "\n",
    "    intPosi = 0\n",
    "    inicialSomaPosi = 0\n",
    "    \n",
    "    par = 0\n",
    "    inicialSomaPar = 0\n",
    "\n",
    "    impar = 0\n",
    "    inicialSomaImpar = 0\n",
    "\n",
    "    while(inicial <= final):\n",
    "        if(inicial > 0):\n",
    "            intPosi = intPosi + 1\n",
    "            inicialSomaPosi = inicialSomaPosi + inicial\n",
    "        if(inicial%2 == 0):\n",
    "            par = par + 1\n",
    "            inicialSomaPar = inicialSomaPar + inicial\n",
    "        else:\n",
    "            impar = impar + 1\n",
    "            inicialSomaImpar = inicialSomaImpar + inicial\n",
    "        inicial = inicial + 1\n",
    "\n",
    "    mediaPosi = inicialSomaPosi / intPosi \n",
    "    mediaPar = inicialSomaPar / par \n",
    "    mediaImpar = inicialSomaImpar / impar \n",
    "        \n",
    "    print('Quantidade de números inteiros: {}'.format(intPosi))\n",
    "    print('Média dos números inteiros: {}'.format(mediaPosi))\n",
    "    print('Quantidade de números pares: {}'.format(par))\n",
    "    print('Média dos números pares: {}'.format(mediaPar))\n",
    "    print('Quantidade de números impares: {}'.format(impar))\n",
    "    print('Média dos números impares: {}'.format(mediaImpar))\n",
    "\n",
    "else:\n",
    "    print('Insira o valor inicial menor que o valor final!')"
   ]
  },
  {
   "attachments": {},
   "cell_type": "markdown",
   "metadata": {},
   "source": [
    "#### Acumuladora"
   ]
  },
  {
   "cell_type": "code",
   "execution_count": null,
   "metadata": {},
   "outputs": [],
   "source": [
    "soma = 0\n",
    "cont = 1\n",
    "\n",
    "while(cont <= 5):\n",
    "    x = float(input('Digite a {}ª nota: '.format(cont)))\n",
    "    soma = soma + x\n",
    "    cont = cont + 1\n",
    "\n",
    "print('Somatório: {}'.format(soma))"
   ]
  },
  {
   "cell_type": "code",
   "execution_count": null,
   "metadata": {},
   "outputs": [],
   "source": [
    "soma = 0\n",
    "cont = 1\n",
    "\n",
    "while(cont <= 5):\n",
    "    x = float(input('Digite a {}ª nota: '.format(cont)))\n",
    "    soma = soma + x\n",
    "    cont = cont + 1\n",
    "\n",
    "media = soma / 5\n",
    "print('Somatório: {}'.format(soma))\n",
    "print('Média: {}'.format(media))"
   ]
  },
  {
   "cell_type": "code",
   "execution_count": null,
   "metadata": {},
   "outputs": [],
   "source": [
    "valor1adm = int(input('Informe o primeiro valor para a multiplicação: '))\n",
    "valor2 = int(input('Informe o segundo valor para a multiplicação: '))\n",
    "\n",
    "mult = 0\n",
    "count = 1\n",
    "\n",
    "while(count <= valor2):\n",
    "    mult = mult + valor1adm\n",
    "    count = count + 1\n",
    "\n",
    "print('Resultado de {} x {} = {}'.format(valor1adm,valor2,mult))"
   ]
  },
  {
   "attachments": {},
   "cell_type": "markdown",
   "metadata": {},
   "source": [
    "#### Recursos Avançados"
   ]
  },
  {
   "attachments": {},
   "cell_type": "markdown",
   "metadata": {},
   "source": [
    "##### Operadores Especiais de Atribuição"
   ]
  },
  {
   "cell_type": "code",
   "execution_count": null,
   "metadata": {},
   "outputs": [],
   "source": [
    "x = 1\n",
    "while(x <= 5):\n",
    "    print(x)\n",
    "    x += 1 # x = x + 1\n",
    "\n",
    "# x += 1 ---> x = x + 1\n",
    "# x -= 1 ---> x = x - 1\n",
    "# x *= 1 ---> x = x * 1\n",
    "# x /= 1 ---> x = x / 1\n",
    "# x **= 1 ---> x = x ** 1\n",
    "# x //= 1 ---> x = x // 1"
   ]
  },
  {
   "cell_type": "code",
   "execution_count": null,
   "metadata": {},
   "outputs": [],
   "source": [
    "soma = 0\n",
    "cont = 1\n",
    "while(cont <= 5):\n",
    "    x = int(input('Digite o {}º número: '.format(cont)))\n",
    "    soma += x\n",
    "    cont += 1\n",
    "\n",
    "print('Somatório: {}'.format(soma))"
   ]
  },
  {
   "attachments": {},
   "cell_type": "markdown",
   "metadata": {},
   "source": [
    "##### Validando dados de entrada com loop"
   ]
  },
  {
   "cell_type": "code",
   "execution_count": null,
   "metadata": {},
   "outputs": [],
   "source": [
    "x = int(input('Digite um valor maior do que zero: '))\n",
    "\n",
    "while(x <= 0):\n",
    "    x = int(input('Digite um valor maior do que zero: '))\n",
    "print('Você digitou {}. Encerrando o programa...'.format(x))"
   ]
  },
  {
   "cell_type": "code",
   "execution_count": null,
   "metadata": {},
   "outputs": [],
   "source": [
    "print('Digite uma mensagem que irei repetir para você!')\n",
    "print('Para encerrar escreva \"sair\".')\n",
    "texto = input('')\n",
    "while(texto != 'sair'):\n",
    "    print(texto)\n",
    "    texto = input('')\n",
    "print('Encerrando o programa...')"
   ]
  },
  {
   "attachments": {},
   "cell_type": "markdown",
   "metadata": {},
   "source": [
    "##### Interrompendo um loop com break"
   ]
  },
  {
   "cell_type": "code",
   "execution_count": null,
   "metadata": {},
   "outputs": [],
   "source": [
    "print('Digite uma mensagem que irei repetir para você!')\n",
    "print('Para encerrar escreva \"sair\".')\n",
    "while(True): #loop infinito\n",
    "    texto = input('')   \n",
    "    print(texto)\n",
    "    if(texto == 'sair'):\n",
    "        break\n",
    "print('Encerrando o programa...')"
   ]
  },
  {
   "attachments": {},
   "cell_type": "markdown",
   "metadata": {},
   "source": [
    "##### Voltando ao início do loop com continue"
   ]
  },
  {
   "cell_type": "code",
   "execution_count": null,
   "metadata": {},
   "outputs": [],
   "source": [
    "while(True):\n",
    "    nome = input('Qual é seu nome? ')\n",
    "    if(nome != 'Luan'):\n",
    "        continue # Não permite avançar para a próxima linha\n",
    "    senha = input('Qual é a sua senha?')\n",
    "    if(senha == 'LUANooo'):\n",
    "        break\n",
    "print('Acesso permitido!')"
   ]
  },
  {
   "attachments": {},
   "cell_type": "markdown",
   "metadata": {},
   "source": [
    "##### Valores Truthy e Falsey\n",
    "\n",
    "São dados não booleanos que podem ser tratados como booleanos de acordo com o operadores lógicos em uma condição."
   ]
  },
  {
   "cell_type": "code",
   "execution_count": null,
   "metadata": {},
   "outputs": [],
   "source": [
    "# Valor 0 ou '' é Falsey/False\n",
    "# Valor com dados é Truthy/True\n",
    "\n",
    "nome = ''\n",
    "\n",
    "while(not nome):\n",
    "    nome = input('Digite seu nome: ')\n",
    "valor = int(input('Digite um número inteiro qualquer: '))\n",
    "if(valor):\n",
    "    print('Você digitou um valor diferente de zero.')\n",
    "else:\n",
    "    print('Você não digitou zero.')"
   ]
  },
  {
   "cell_type": "code",
   "execution_count": null,
   "metadata": {},
   "outputs": [],
   "source": [
    "cont = 0\n",
    "numberSoma = 0\n",
    "number = 0\n",
    "while(True):\n",
    "    number = int(input('Digite um número inteiro: '))\n",
    "    if(number < 0):\n",
    "        continue\n",
    "    if(not number):\n",
    "        break\n",
    "    numberSoma += number\n",
    "    cont += 1\n",
    "\n",
    "media = numberSoma / cont\n",
    "print('A média dos valores digitados é: {}'.format(media))"
   ]
  },
  {
   "attachments": {},
   "cell_type": "markdown",
   "metadata": {},
   "source": [
    "### FOR (Para)"
   ]
  },
  {
   "cell_type": "code",
   "execution_count": null,
   "metadata": {},
   "outputs": [],
   "source": [
    "for i in range(6): # 0 a 5\n",
    "    # i -> Variável de controle\n",
    "    print(i)"
   ]
  },
  {
   "cell_type": "code",
   "execution_count": null,
   "metadata": {},
   "outputs": [],
   "source": [
    "for i in range(0,6,1):  # 0 a 5\n",
    "    # 0 -> Inicial\n",
    "    # 6 -> Final\n",
    "    # 1 -> Passo do iterador\n",
    "    print(i)"
   ]
  },
  {
   "cell_type": "code",
   "execution_count": null,
   "metadata": {},
   "outputs": [],
   "source": [
    "soma = 0\n",
    "qtd = 0\n",
    "\n",
    "for i in range(1, 101):\n",
    "    # Para i no intervalo(1, 101)\n",
    "    if(i%2 == 0):\n",
    "        soma += i\n",
    "        qtd += 1\n",
    "\n",
    "media = soma/qtd\n",
    "\n",
    "print('A média dos pares de 1 até 100 é: {}'.format(media))"
   ]
  },
  {
   "cell_type": "code",
   "execution_count": null,
   "metadata": {},
   "outputs": [],
   "source": [
    "for i in range(10,1001):\n",
    "    print(i)"
   ]
  },
  {
   "cell_type": "code",
   "execution_count": null,
   "metadata": {},
   "outputs": [],
   "source": [
    "for i in range(10,-1,-1):\n",
    "    print(i)\n",
    "print('Fogo!')"
   ]
  },
  {
   "cell_type": "code",
   "execution_count": null,
   "metadata": {},
   "outputs": [],
   "source": [
    "numeroEscolhido = int(input('Escolha um número a qual deseja a tabuada: '))\n",
    "ateNumero = int(input('Indique até que número deseja calcular com o número escolhido: '))\n",
    "\n",
    "for i in range(0, ateNumero+1,1):\n",
    "    print('{} x {} = {}'.format(numeroEscolhido,i, i*numeroEscolhido))"
   ]
  },
  {
   "attachments": {},
   "cell_type": "markdown",
   "metadata": {},
   "source": [
    "#### Comparativo com While e For\n",
    "\n",
    "While repetirá quantas vezes for necessário, o que se aplicar na definição definida.\n",
    "For já tem o número de vezes que repetirá o código."
   ]
  },
  {
   "cell_type": "code",
   "execution_count": null,
   "metadata": {},
   "outputs": [],
   "source": [
    "# Enquanto (While)\n",
    "\n",
    "x = 1\n",
    "\n",
    "while(x < 6):\n",
    "    print(x)\n",
    "    x+=1\n",
    "\n",
    "print('')\n",
    "\n",
    "# Para (For)\n",
    "\n",
    "for x in range(1,6,1):\n",
    "    # Comparação lógica somente com a variável de controle com operadores relacionais.\n",
    "    print(x)"
   ]
  },
  {
   "attachments": {},
   "cell_type": "markdown",
   "metadata": {},
   "source": [
    "#### Varredura de String com For\n",
    "\n",
    "Fazer varredura em cada elemento da string ou até mesmo em uma array."
   ]
  },
  {
   "cell_type": "code",
   "execution_count": null,
   "metadata": {},
   "outputs": [],
   "source": [
    "frase = 'Lógica de Programação e Algoritmos'\n",
    "\n",
    "for i in range(0, len(frase),1):\n",
    "    print(frase[i], end='') # Parâmetro do print para esse caso imprimir em uma linha\n",
    "\n",
    "for i in range(0, len(frase),1):\n",
    "    print(frase[i])"
   ]
  },
  {
   "attachments": {},
   "cell_type": "markdown",
   "metadata": {},
   "source": [
    "### Estr. de Repetição Alinhadas\n",
    "\n",
    "Pode combinar diversas estruturas de repetição para algoritmos complexos"
   ]
  },
  {
   "attachments": {},
   "cell_type": "markdown",
   "metadata": {},
   "source": [
    "#### 2 Whiles"
   ]
  },
  {
   "cell_type": "code",
   "execution_count": null,
   "metadata": {},
   "outputs": [],
   "source": [
    "tabuada = 1\n",
    "\n",
    "while(tabuada <= 10):\n",
    "    print('Tabuada do {}: '.format(tabuada))\n",
    "\n",
    "    i=1\n",
    "    while(i <= 10):\n",
    "        print('{} x {} = {}'.format(tabuada, i, tabuada*i))\n",
    "        i += 1\n",
    "    \n",
    "    tabuada += 1\n"
   ]
  },
  {
   "attachments": {},
   "cell_type": "markdown",
   "metadata": {},
   "source": [
    "#### 2 Fors"
   ]
  },
  {
   "cell_type": "code",
   "execution_count": null,
   "metadata": {},
   "outputs": [],
   "source": [
    "for tabuada in range(1,11):\n",
    "    print('Tabuada do {}: '.format(tabuada))\n",
    "    for i in range(1,11):\n",
    "        print('{} x {} = {}'.format(tabuada, i, tabuada*i))"
   ]
  },
  {
   "attachments": {},
   "cell_type": "markdown",
   "metadata": {},
   "source": [
    "#### 1 While e 1 For"
   ]
  },
  {
   "cell_type": "code",
   "execution_count": null,
   "metadata": {},
   "outputs": [],
   "source": [
    "for tabuada in range(1,11):\n",
    "    print('Tabuada do {}: '.format(tabuada))\n",
    "\n",
    "    i = 1\n",
    "    while(i <= 10):\n",
    "        print('{} x {} = {}'.format(tabuada, i, tabuada*i))\n",
    "        i+=1"
   ]
  },
  {
   "cell_type": "code",
   "execution_count": null,
   "metadata": {},
   "outputs": [],
   "source": [
    "tabuada = 1\n",
    "while(tabuada <= 10):\n",
    "    print('Tabuada do {}: '.format(tabuada))\n",
    "\n",
    "    for i in range(1,11):\n",
    "        print('{} x {} = {}'.format(tabuada, i, tabuada*i))\n",
    "    tabuada += 1"
   ]
  },
  {
   "cell_type": "code",
   "execution_count": null,
   "metadata": {},
   "outputs": [],
   "source": [
    "idade = int(input('Qual a sua idade?'))\n",
    "while(idade > 0):\n",
    "\n",
    "    sexo = input('Qual o seu sexo?')\n",
    "\n",
    "    if(sexo == 'M' or sexo == 'm'):\n",
    "        print('Boa noite, Senhor. Sua idade é {}'.format(idade))\n",
    "    elif(sexo == 'F' or sexo == 'f'):\n",
    "        print('Boa noite, Senhora. Sua idade é {}'.format(idade))\n",
    "    else:\n",
    "        print('Sexo inexistente no sistema.')\n",
    "\n",
    "    idade = int(input('Qual a sua idade?'))\n",
    "print('Encerrando...')"
   ]
  },
  {
   "cell_type": "code",
   "execution_count": null,
   "metadata": {},
   "outputs": [],
   "source": [
    "for numero in range(2,100):\n",
    "    flag = 0\n",
    "    for i in range(2,numero):\n",
    "        if(numero%i == 0):\n",
    "            flag = 1\n",
    "            break\n",
    "    if(not flag):\n",
    "        print(numero)"
   ]
  },
  {
   "cell_type": "code",
   "execution_count": null,
   "metadata": {},
   "outputs": [],
   "source": [
    "frase = input('Digite uma frase: ')\n",
    "tamanho = len(frase)\n",
    "\n",
    "while((tamanho < 10) or (tamanho > 30)):\n",
    "    frase = input('Digite uma frase: ')\n",
    "    tamanho = len(frase)\n",
    "\n",
    "print('Com espaços: {}'.format(frase))\n",
    "print('Sem espaços: ', end=\"\")\n",
    "\n",
    "for i in range(0,tamanho):\n",
    "    if(frase[i] != ' '):\n",
    "        print(frase[i], end='')"
   ]
  },
  {
   "cell_type": "code",
   "execution_count": null,
   "metadata": {},
   "outputs": [],
   "source": [
    "h_inicial = int(input('Deseja iniciar em qual hora?'))\n",
    "h_final = int(input('Deseja terminar em qual hora?'))\n",
    "\n",
    "while(\n",
    "    (h_inicial > h_final) or\n",
    "    (h_inicial < 0) or \n",
    "    (h_inicial > 23) or \n",
    "    (h_final < 0) or \n",
    "    (h_final > 23)\n",
    "    ):\n",
    "    h_inicial = int(input('Deseja iniciar em qual hora?'))\n",
    "    h_final = int(input('Deseja terminar em qual hora?'))\n",
    "\n",
    "for h in range(h_inicial,h_final+1):\n",
    "    for m in range(0,60):\n",
    "        for s in range(0,60):\n",
    "            print(h,':',m,':',s,'h')"
   ]
  },
  {
   "attachments": {},
   "cell_type": "markdown",
   "metadata": {},
   "source": [
    "## Atividades"
   ]
  },
  {
   "attachments": {},
   "cell_type": "markdown",
   "metadata": {},
   "source": [
    "### Exercícios de Fixação"
   ]
  },
  {
   "cell_type": "code",
   "execution_count": null,
   "metadata": {},
   "outputs": [],
   "source": [
    "# For -> numero finito de interações\n",
    "\n",
    "for i in range(3,13):\n",
    "    print(i)\n",
    "\n",
    "print('')\n",
    "\n",
    "i = 3\n",
    "while(i < 13):\n",
    "    print(i)\n",
    "    i+=1"
   ]
  },
  {
   "cell_type": "code",
   "execution_count": null,
   "metadata": {},
   "outputs": [],
   "source": [
    "for i in range(0,9,2):\n",
    "    print(i)\n",
    "\n",
    "print('')\n",
    "\n",
    "i = 0\n",
    "while(i < 9):\n",
    "    print(i)\n",
    "    i+=2"
   ]
  },
  {
   "attachments": {},
   "cell_type": "markdown",
   "metadata": {},
   "source": [
    "### Problemas"
   ]
  },
  {
   "cell_type": "code",
   "execution_count": null,
   "metadata": {},
   "outputs": [],
   "source": [
    "# 1 Problema\n",
    "\n",
    "print('CALCULADORA')\n",
    "print('Tem-se as opções abaixo:')\n",
    "print('+ --> Adição')\n",
    "print('- --> Subtração')\n",
    "print('* --> Multiplicação')\n",
    "print('/ --> Divisão')\n",
    "print('S --> Sair')\n",
    "\n",
    "operador = input('Escolha uma das opções apresentadas:')\n",
    "if(operador == '+' or operador == '-' or operador == '*' or operador == '/'):\n",
    "    v1 = int(input('Digite o primeiro valor:'))\n",
    "    v2 = int(input('Digite o segundo valor:'))\n",
    "\n",
    "while(operador != 'S'):\n",
    "    if(operador == '+'):\n",
    "        result = v1 + v2\n",
    "        print('Resultado: {} {} {} = {}'.format(v1,operador,v2,result))\n",
    "    elif(operador == '-'):\n",
    "        result = v1 - v2\n",
    "        print('Resultado: {} {} {} = {}'.format(v1,operador,v2,result))\n",
    "    elif(operador == '*'):\n",
    "        result = v1 * v2\n",
    "        print('Resultado: {} {} {} = {}'.format(v1,operador,v2,result))\n",
    "    elif(operador == '/'):\n",
    "        result = v1 / v2\n",
    "        print('Resultado: {} {} {} = {}'.format(v1,operador,v2,result))\n",
    "    else:\n",
    "        print('Operação inválida.')\n",
    "\n",
    "    operador = input('Escolha uma das opções apresentadas:')\n",
    "    if(operador == '+' or operador == '-' or operador == '*' or operador == '/'):\n",
    "        v1 = int(input('Digite o primeiro valor:'))\n",
    "        v2 = int(input('Digite o segundo valor:'))\n",
    "\n",
    "print('Encerrando o programa...')"
   ]
  },
  {
   "cell_type": "code",
   "execution_count": null,
   "metadata": {},
   "outputs": [],
   "source": [
    "print('CALCULADORA')\n",
    "print('Tem-se as opções abaixo:')\n",
    "print('+ --> Adição')\n",
    "print('- --> Subtração')\n",
    "print('* --> Multiplicação')\n",
    "print('/ --> Divisão')\n",
    "print('S --> Sair')\n",
    "\n",
    "while(True):\n",
    "    operador = input('Escolha uma das opções apresentadas:')\n",
    "    if(operador == '+' or operador == '-' or operador == '*' or operador == '/'):\n",
    "        v1 = int(input('Digite o primeiro valor:'))\n",
    "        v2 = int(input('Digite o segundo valor:'))\n",
    "    \n",
    "    if(operador == '+'):\n",
    "        result = v1 + v2\n",
    "        print('Resultado: {} {} {} = {}'.format(v1,operador,v2,result))\n",
    "        continue\n",
    "    elif(operador == '-'):\n",
    "        result = v1 - v2\n",
    "        print('Resultado: {} {} {} = {}'.format(v1,operador,v2,result))\n",
    "        continue\n",
    "    elif(operador == '*'):\n",
    "        result = v1 * v2\n",
    "        print('Resultado: {} {} {} = {}'.format(v1,operador,v2,result))\n",
    "        continue\n",
    "    elif(operador == '/'):\n",
    "        result = v1 / v2\n",
    "        print('Resultado: {} {} {} = {}'.format(v1,operador,v2,result))\n",
    "        continue\n",
    "    elif(operador == 'S'):\n",
    "        break\n",
    "    else:\n",
    "        print('Operação inválida.')\n",
    "\n",
    "print('Encerrando o programa...')"
   ]
  },
  {
   "cell_type": "code",
   "execution_count": null,
   "metadata": {},
   "outputs": [],
   "source": [
    "# 2 Problema\n",
    "\n",
    "valor = float(input('Digite um valor para verificar a quantidade de cédulas precisas: '))\n",
    "\n",
    "while(True):\n",
    "    if(valor >= 100):\n",
    "        cedulas100 = valor // 100\n",
    "        valor = valor - cedulas100 * 100\n",
    "        print('Cédulas de 100: {}'.format(cedulas100))\n",
    "        if(not valor):\n",
    "            break\n",
    "    if(valor >= 50):\n",
    "        cedulas50 = valor // 50\n",
    "        valor = valor - cedulas100 * 50\n",
    "        print('Cédulas de 50: {}'.format(cedulas50))\n",
    "        if(not valor):\n",
    "            break\n",
    "    if(valor >= 20):\n",
    "        cedulas20 = valor // 20\n",
    "        valor = valor - cedulas20 * 20\n",
    "        print('Cédulas de 20: {}'.format(cedulas20))\n",
    "        if(not valor):\n",
    "            break\n",
    "    if(valor >= 10):\n",
    "        cedulas10 = valor // 10\n",
    "        valor = valor - cedulas10 * 10\n",
    "        print('Cédulas de 10: {}'.format(cedulas10))\n",
    "        if(not valor):\n",
    "            break\n",
    "    if(valor >= 5):\n",
    "        cedulas5 = valor // 5\n",
    "        valor = valor - cedulas5 * 5\n",
    "        print('Cédulas de 5: {}'.format(cedulas5))\n",
    "        if(not valor):\n",
    "            break\n",
    "    if(valor):\n",
    "        cedulas1 = valor\n",
    "        print('Cédulas de 1: {}'.format(cedulas1))\n",
    "        break"
   ]
  },
  {
   "cell_type": "code",
   "execution_count": null,
   "metadata": {},
   "outputs": [],
   "source": [
    "pessoa =  0\n",
    "idades = 0\n",
    "totalDinIngresso = 0\n",
    "\n",
    "while(True):\n",
    "    idade = input('Digite a sua idade:')\n",
    "\n",
    "    if(idade != 'Sair'):\n",
    "        idade = int(idade)\n",
    "        pessoa += 1\n",
    "        \n",
    "        if(idade < 3):\n",
    "            ingresso = 0\n",
    "        elif (3 <= idade <= 12):\n",
    "            ingresso = 15\n",
    "        elif(idade > 12):\n",
    "            ingresso = 30\n",
    "        \n",
    "        totalDinIngresso += ingresso\n",
    "        idades += idade\n",
    "    else:\n",
    "        break\n",
    "\n",
    "print('Total de pessoas que compraram os ingressos: {}'.format(pessoa))\n",
    "print('Total de dinheiro arrecadado: {}'.format(totalDinIngresso))\n",
    "print('Média de idade das pessoas: {}'.format(int(idades / pessoa)))"
   ]
  },
  {
   "attachments": {},
   "cell_type": "markdown",
   "metadata": {},
   "source": [
    "## Aula ao Vivo"
   ]
  },
  {
   "attachments": {},
   "cell_type": "markdown",
   "metadata": {},
   "source": [
    "### QUESTÃO 2"
   ]
  },
  {
   "cell_type": "code",
   "execution_count": null,
   "metadata": {},
   "outputs": [],
   "source": [
    "print('Bem-vindo a Sorveteria da Alessandra Teles Reis de Souza.')\n",
    "print('-------------------------------------Cardápio-------------------------------------')\n",
    "print('| N DE BOLAS | Sabor Tradicional (tr) | Sabor Premium (pr) | Sabor Especial (es) |')\n",
    "print('|      1     |         R$ 6,00        |       R$ 7,00      |       R$ 8,00       |')\n",
    "print('|      2     |         R$ 10,00       |       R$ 12,00     |       R$ 14,00      |')\n",
    "print('|      3     |         R$ 14,00       |       R$ 17,00     |       R$ 20,00      |')\n",
    "print('----------------------------------------------------------------------------------')\n",
    "\n",
    "totalValor = 0\n",
    "\n",
    "while(True):\n",
    "    sabor = input('Entre com o sabor desejado (tr/es/pr): ')\n",
    "\n",
    "    # Mensagem de erro para sabor inválido\n",
    "    if(sabor != 'tr' and sabor != 'pr' and sabor != 'es'):\n",
    "        print('Sabor inválido. Tente novamente')\n",
    "        print('')\n",
    "        continue\n",
    "    \n",
    "    nBolas = input('Entre com o número de bolas de sorvete desejado (1/2/3): ')\n",
    "\n",
    "    # Mensagem de erro para bolas de sorvete inválido\n",
    "    if(nBolas != '1' and nBolas != '2' and nBolas != '3'):\n",
    "        print('Número de bolas de sorvete inválido. Tente novamente')\n",
    "        print('')\n",
    "        continue\n",
    "    \n",
    "    nBolas = int(nBolas) # Caso for verdadeiro, transformar em inteiro\n",
    "\n",
    "    # Seguindo o Cardápio\n",
    "    if(sabor == 'tr'):\n",
    "        TxSabor = 'TRADICIONAL'\n",
    "        if(nBolas == 1):\n",
    "            valor = 6.00\n",
    "        elif(nBolas == 2):\n",
    "            valor = 10.00\n",
    "        elif(nBolas == 3):\n",
    "            valor = 14.00\n",
    "    elif(sabor == 'pr'):\n",
    "        TxSabor = 'PREMIUM'\n",
    "        if(nBolas == 1):\n",
    "            valor = 7.00\n",
    "        elif(nBolas == 2):\n",
    "            valor = 12.00\n",
    "        elif(nBolas == 3):\n",
    "            valor = 17.00\n",
    "    elif(sabor == 'es'):\n",
    "        TxSabor = 'ESPECIAL'\n",
    "        if(nBolas == 1):\n",
    "            valor = 8.00\n",
    "        elif(nBolas == 2):\n",
    "            valor = 14.00\n",
    "        elif(nBolas == 3):\n",
    "            valor = 20.00\n",
    "\n",
    "    totalValor += valor # Acumúlo de R$ de conjunto de pedidos\n",
    "\n",
    "    # Condição para formatar a mensagem em casos de quantidades de bolas maiores ou igual 1\n",
    "    if(nBolas == 1):\n",
    "        print('Você pediu 1 bola no sabor {}: R${:.2f}'.format(TxSabor,valor))\n",
    "    else:\n",
    "        print('Você pediu {} bolas no sabor {}: R${:.2f}'.format(nBolas,TxSabor,valor))\n",
    "\n",
    "    resposta = input('Deseja mais algum sorvete (S/Digite outra tecla)?: ')\n",
    "    print('')\n",
    "\n",
    "    # Condição para prosseguir com o pedido/loop ou não\n",
    "    if(resposta == 'S' or resposta == 's'):\n",
    "        continue\n",
    "    else:\n",
    "        print('O valor total a ser pago: R${:.2f}'.format(totalValor))\n",
    "        break"
   ]
  },
  {
   "attachments": {},
   "cell_type": "markdown",
   "metadata": {},
   "source": [
    "# Aula 5"
   ]
  },
  {
   "attachments": {},
   "cell_type": "markdown",
   "metadata": {},
   "source": [
    "# Aula 6"
   ]
  },
  {
   "attachments": {},
   "cell_type": "markdown",
   "metadata": {},
   "source": [
    "# Trabalho"
   ]
  }
 ],
 "metadata": {
  "kernelspec": {
   "display_name": "Python 3",
   "language": "python",
   "name": "python3"
  },
  "language_info": {
   "codemirror_mode": {
    "name": "ipython",
    "version": 3
   },
   "file_extension": ".py",
   "mimetype": "text/x-python",
   "name": "python",
   "nbconvert_exporter": "python",
   "pygments_lexer": "ipython3",
   "version": "3.11.4"
  },
  "orig_nbformat": 4
 },
 "nbformat": 4,
 "nbformat_minor": 2
}
