{
 "cells": [
  {
   "cell_type": "markdown",
   "metadata": {},
   "source": [
    "# Aula 2"
   ]
  },
  {
   "attachments": {},
   "cell_type": "markdown",
   "metadata": {},
   "source": [
    "## Funções básicas"
   ]
  },
  {
   "attachments": {},
   "cell_type": "markdown",
   "metadata": {},
   "source": [
    "### Função de Entrada em Python"
   ]
  },
  {
   "cell_type": "code",
   "execution_count": null,
   "metadata": {},
   "outputs": [],
   "source": [
    "pergunta = 'oi'\n",
    "valor = input(pergunta)\n",
    "print(valor)"
   ]
  },
  {
   "cell_type": "code",
   "execution_count": null,
   "metadata": {},
   "outputs": [],
   "source": [
    "idade = input('Qual sua idade?')\n",
    "print('Minha idade é', idade)\n"
   ]
  },
  {
   "cell_type": "code",
   "execution_count": null,
   "metadata": {},
   "outputs": [],
   "source": [
    "nome = input('Qual é seu nome?')\n",
    "print('Olá {}, seja bem vindo!'.format(nome))"
   ]
  },
  {
   "attachments": {},
   "cell_type": "markdown",
   "metadata": {},
   "source": [
    "### Função de Saída em Python"
   ]
  },
  {
   "cell_type": "code",
   "execution_count": null,
   "metadata": {},
   "outputs": [],
   "source": [
    "valor = '' #pode ser numero, string e booleano\n",
    "print(valor) "
   ]
  },
  {
   "attachments": {},
   "cell_type": "markdown",
   "metadata": {},
   "source": [
    "## Saídas em diferentes versões"
   ]
  },
  {
   "cell_type": "code",
   "execution_count": 86,
   "metadata": {},
   "outputs": [
    {
     "name": "stdout",
     "output_type": "stream",
     "text": [
      "Olá, mundo\n",
      "7\n",
      "2+3\n",
      "23\n",
      "olá,mundo\n",
      "ola, mundo\n",
      "olá, 7\n",
      "11\n",
      "5.333333333333333\n",
      "497\n"
     ]
    }
   ],
   "source": [
    "print('Olá, mundo')\n",
    "print(3+4)\n",
    "print('2+3')\n",
    "print('2'+'3')\n",
    "print('olá,'+'mundo')\n",
    "print('ola,','mundo')\n",
    "print('olá,', 2+5)\n",
    "print(2 + 3*3)\n",
    "print(4**2 /3)\n",
    "print((9**2 + 2)*6-1)"
   ]
  },
  {
   "attachments": {},
   "cell_type": "markdown",
   "metadata": {},
   "source": [
    "## Variáveis\n",
    "\n",
    "Variáveis guardam valores (dados)"
   ]
  },
  {
   "cell_type": "code",
   "execution_count": null,
   "metadata": {},
   "outputs": [],
   "source": [
    "nota = 8.5\n",
    "disciplina = 'Lógica de Programação e algoritmos'\n",
    "print('')\n",
    "print(nota)\n",
    "print(disciplina)\n",
    "print('Disciplina:',disciplina,'. Nota:',nota)"
   ]
  },
  {
   "attachments": {},
   "cell_type": "markdown",
   "metadata": {},
   "source": [
    "### Tipos de variáveis"
   ]
  },
  {
   "attachments": {},
   "cell_type": "markdown",
   "metadata": {},
   "source": [
    "#### Variáveis Numéricas"
   ]
  },
  {
   "cell_type": "code",
   "execution_count": null,
   "metadata": {},
   "outputs": [],
   "source": [
    "sentidoVida = 42\n",
    "print('O número',sentidoVida,'é o sentido da vida')"
   ]
  },
  {
   "attachments": {},
   "cell_type": "markdown",
   "metadata": {},
   "source": [
    "#### Variávies Booleanos"
   ]
  },
  {
   "cell_type": "code",
   "execution_count": null,
   "metadata": {},
   "outputs": [],
   "source": [
    "a = 1\n",
    "b = 5\n",
    "resposta = a == b\n",
    "print(resposta)\n",
    "resposta = a != b\n",
    "print(resposta)"
   ]
  },
  {
   "cell_type": "code",
   "execution_count": null,
   "metadata": {},
   "outputs": [],
   "source": [
    "notaAluno = 5\n",
    "notaResultado = notaAluno >= 7\n",
    "print(notaResultado)"
   ]
  },
  {
   "attachments": {},
   "cell_type": "markdown",
   "metadata": {},
   "source": [
    "#### Variáveis de Cadeia de Caracteres (Strings)"
   ]
  },
  {
   "cell_type": "code",
   "execution_count": null,
   "metadata": {},
   "outputs": [],
   "source": [
    "# Indíce de caracteres\n",
    "disciplina = 'Lógica de Programação e algoritmos'\n",
    "print(disciplina[5]) "
   ]
  },
  {
   "attachments": {},
   "cell_type": "markdown",
   "metadata": {},
   "source": [
    "##### Manipulação de Strings"
   ]
  },
  {
   "attachments": {},
   "cell_type": "markdown",
   "metadata": {},
   "source": [
    "###### ....\n",
    "Concatenação"
   ]
  },
  {
   "cell_type": "code",
   "execution_count": null,
   "metadata": {},
   "outputs": [],
   "source": [
    "s1 = 'Lógica de Programação'\n",
    "s1 = s1 + ' e Algoritmos'\n",
    "print(s1)"
   ]
  },
  {
   "cell_type": "code",
   "execution_count": null,
   "metadata": {},
   "outputs": [],
   "source": [
    "s1 = 'A' + '-' * 10 + 'B'\n",
    "print(s1)"
   ]
  },
  {
   "cell_type": "code",
   "execution_count": null,
   "metadata": {},
   "outputs": [],
   "source": [
    "s1 = 'Lógica de Programação'\n",
    "print(s1)\n",
    "s2 = 'Lógica de Programação', 10\n",
    "print(s2)\n",
    "s3 = s1, 10\n",
    "print(s3)\n",
    "print(s1,10)"
   ]
  },
  {
   "cell_type": "code",
   "execution_count": null,
   "metadata": {},
   "outputs": [],
   "source": [
    "s1 = 'Python ' + '-' * 5 + ' C ' + '-' * 5 + ' Java ' + '-' * 5 + ' PHP '\n",
    "print(s1)\n",
    "s2 = 'Python ' + '-' * 5 + '\\n C ' + '-' * 5 + '\\n Java ' + '-' * 5 + '\\n PHP '\n",
    "print(s2)\n",
    "s3 = 'Python ' + '-' * 5 + '\\t C ' + '-' * 5 + '\\t Java ' + '-' * 5 + '\\t PHP '\n",
    "print(s3)"
   ]
  },
  {
   "attachments": {},
   "cell_type": "markdown",
   "metadata": {},
   "source": [
    "###### ...\n",
    "Composição"
   ]
  },
  {
   "cell_type": "code",
   "execution_count": null,
   "metadata": {},
   "outputs": [],
   "source": [
    "nota = 8.5\n",
    "\n",
    "#Substitui onde fica a porcentagem em caso de número flutuante\n",
    "s1 = 'Você tirou %f na disciplina de Algoritmos' % nota \n",
    "print(s1)"
   ]
  },
  {
   "cell_type": "code",
   "execution_count": null,
   "metadata": {},
   "outputs": [],
   "source": [
    "nota = 8.5\n",
    "\n",
    "#Delimita o número de casas depois do ponto\n",
    "s1 = 'Você tirou %.1f na disciplina de Algoritmos' % nota  \n",
    "print(s1)"
   ]
  },
  {
   "cell_type": "code",
   "execution_count": null,
   "metadata": {},
   "outputs": [],
   "source": [
    "nota = 8.5\n",
    "\n",
    "#Substitui onde fica a porcentagem em caso de número inteiro ou converte\n",
    "s1 = 'Você tirou %d na disciplina de Algoritmos' % nota  \n",
    "print(s1)"
   ]
  },
  {
   "cell_type": "code",
   "execution_count": null,
   "metadata": {},
   "outputs": [],
   "source": [
    "nota = 8.5\n",
    "disciplina = 'Algoritmos'\n",
    "#Substitui a primeira porcentagem do tipo inteiro e a última do tipo string\n",
    "s1 = 'Você tirou %d na disciplina de %s' % (nota, disciplina)  \n",
    "print(s1)"
   ]
  },
  {
   "cell_type": "code",
   "execution_count": null,
   "metadata": {},
   "outputs": [],
   "source": [
    "nota = 8.5\n",
    "disciplina = 'Algoritmos'\n",
    "#Funciona da mesma maneira\n",
    "s1 = 'Você tirou {} na disciplina de {}'.format(nota,disciplina)  "
   ]
  },
  {
   "cell_type": "code",
   "execution_count": null,
   "metadata": {},
   "outputs": [],
   "source": [
    "comidaFav = 'Camarão'\n",
    "anoNasc = 2002\n",
    "anoIdadeDiv = 2002/21\n",
    "s1 = 'Nasci em %d, tenho 21 anos, minha comida favorita é %s e o resultado é %.2f' % (anoNasc,comidaFav,anoIdadeDiv)\n",
    "s2 = 'Nasci em {}, tenho 21 anos, minha comida favorita é {} e o resultado é {}'.format(anoNasc,comidaFav,anoIdadeDiv)\n",
    "print(s1)\n",
    "print(s2)"
   ]
  },
  {
   "attachments": {},
   "cell_type": "markdown",
   "metadata": {},
   "source": [
    "###### ...\n",
    "Fatiamento"
   ]
  },
  {
   "cell_type": "code",
   "execution_count": null,
   "metadata": {},
   "outputs": [],
   "source": [
    "s1 = 'Lógica de Programação e Algoritmos'\n",
    "print(s1[0:6])"
   ]
  },
  {
   "cell_type": "code",
   "execution_count": null,
   "metadata": {},
   "outputs": [],
   "source": [
    "s1 = 'Lógica de Programação e Algoritmos'\n",
    "print(s1[0:])"
   ]
  },
  {
   "cell_type": "code",
   "execution_count": null,
   "metadata": {},
   "outputs": [],
   "source": [
    "s1 = 'Lógica de Programação e Algoritmos'\n",
    "print(s1[:6])"
   ]
  },
  {
   "cell_type": "code",
   "execution_count": null,
   "metadata": {},
   "outputs": [],
   "source": [
    "s1 = 'Lógica de Programação e Algoritmos'\n",
    "print(s1[:])"
   ]
  },
  {
   "cell_type": "code",
   "execution_count": null,
   "metadata": {},
   "outputs": [],
   "source": [
    "s1 = 'Lógica de Programação e Algoritmos'\n",
    "print(s1[24:34])"
   ]
  },
  {
   "cell_type": "code",
   "execution_count": 56,
   "metadata": {},
   "outputs": [
    {
     "name": "stdout",
     "output_type": "stream",
     "text": [
      "Programação e Algoritmo\n"
     ]
    }
   ],
   "source": [
    "s1 = 'Lógica de Programação e Algoritmos'\n",
    "print(s1[-24:-1])"
   ]
  },
  {
   "attachments": {},
   "cell_type": "markdown",
   "metadata": {},
   "source": [
    "###### ...\n",
    "Função Len"
   ]
  },
  {
   "cell_type": "code",
   "execution_count": null,
   "metadata": {},
   "outputs": [],
   "source": [
    "s1 = 'Lógica de Programação e Algoritmos'\n",
    "tamanho = len(s1)\n",
    "print(tamanho)"
   ]
  },
  {
   "cell_type": "code",
   "execution_count": null,
   "metadata": {},
   "outputs": [],
   "source": [
    "nome = 'Alessandra Teles Reis de Souza'\n",
    "resultado = len(nome) <= 15\n",
    "print(resultado)"
   ]
  },
  {
   "attachments": {},
   "cell_type": "markdown",
   "metadata": {},
   "source": [
    "#####  ...\n",
    "Convertendo string para número"
   ]
  },
  {
   "cell_type": "code",
   "execution_count": null,
   "metadata": {},
   "outputs": [],
   "source": [
    "nota = float(input('Qual nota você recebeu na disciplina?'))\n",
    "print('Você tirou a nota {}'.format(nota))"
   ]
  },
  {
   "cell_type": "code",
   "execution_count": null,
   "metadata": {},
   "outputs": [],
   "source": [
    "x = int(input('Digite um número inteiro:'))\n",
    "y = int(input('Digite outro número inteiro:'))\n",
    "\n",
    "res = 'O resultado da soma de %i e %i é igual a %i' % (x, y, x+y)\n",
    "print(res)\n",
    "res = 'O resultado da soma de {} e {} é igual a {}'.format(x,y,x+y)\n",
    "print(res)"
   ]
  },
  {
   "cell_type": "code",
   "execution_count": null,
   "metadata": {},
   "outputs": [],
   "source": [
    "d = int(input('Qual a quantidade de dias?'))\n",
    "h = int(input('Qual a quantidade de horas?'))\n",
    "m = int(input('Qual a quantidade de minutos?'))\n",
    "s = int(input('Qual a quantidade de segundos?'))\n",
    "\n",
    "result = s + (m * 60) + (h * 60 * 60) + (d * 24 * 60 * 60) \n",
    "\n",
    "print('O total de segundos é de %i' % result)\n",
    "print('O total de segundos é de {}'.format(result))"
   ]
  },
  {
   "cell_type": "code",
   "execution_count": null,
   "metadata": {},
   "outputs": [],
   "source": [
    "preco = float(input('Qual é o preço do produto?'))\n",
    "p = float(input('Qual é o percentual solicitado?'))\n",
    "\n",
    "desconto = preco * (p/100)\n",
    "\n",
    "final = preco - desconto\n",
    "\n",
    "print('O preço do produto é %.2f, com o desconto de %.2f  o preço fica por %.2f' % (preco, p, final))\n",
    "print('O preço do produto é {}, com o desconto de {}  o preço fica por {}'.format(preco, p, final))"
   ]
  },
  {
   "cell_type": "code",
   "execution_count": 17,
   "metadata": {},
   "outputs": [
    {
     "name": "stdout",
     "output_type": "stream",
     "text": [
      "A temperatura 45.000000 C em Fahrenheit é 113.000000\n",
      "A temperatura 45.0 C em Fahrenheit é 113.0\n"
     ]
    }
   ],
   "source": [
    "c = float(input('Digite a temperatura em Celsius que deseja converter para Fahrenheit: '))\n",
    "\n",
    "result = 32 + (9*c/5)\n",
    "\n",
    "print('A temperatura %f C em Fahrenheit é %f' % (c, result))\n",
    "print('A temperatura {} C em Fahrenheit é {}'.format(c, result))"
   ]
  },
  {
   "cell_type": "markdown",
   "metadata": {},
   "source": [
    "## Atividades"
   ]
  },
  {
   "cell_type": "markdown",
   "metadata": {},
   "source": [
    "### Exercícios de Fixação"
   ]
  },
  {
   "cell_type": "code",
   "execution_count": null,
   "metadata": {},
   "outputs": [],
   "source": [
    "# Somatóro dos 5 primeiros números inteiros positivos\n",
    "result = 1+2+3+4+5\n",
    "print(result)"
   ]
  },
  {
   "cell_type": "code",
   "execution_count": null,
   "metadata": {},
   "outputs": [],
   "source": [
    "# Média entre 23, 19 e 31\n",
    "result = (23 + 19 + 31)/3\n",
    "print(result)"
   ]
  },
  {
   "cell_type": "code",
   "execution_count": null,
   "metadata": {},
   "outputs": [],
   "source": [
    "# Número de vezes que 73 cabe em 403\n",
    "result = 403 // 73\n",
    "print(result)"
   ]
  },
  {
   "cell_type": "code",
   "execution_count": 25,
   "metadata": {},
   "outputs": [
    {
     "name": "stdout",
     "output_type": "stream",
     "text": [
      "38\n"
     ]
    }
   ],
   "source": [
    "# Resto da divisão anterior\n",
    "result = 403 % 73\n",
    "print(result)"
   ]
  },
  {
   "cell_type": "code",
   "execution_count": 26,
   "metadata": {},
   "outputs": [
    {
     "name": "stdout",
     "output_type": "stream",
     "text": [
      "100\n"
     ]
    }
   ],
   "source": [
    "# 2 elevado a 10 potencia\n",
    "result = 10**2\n",
    "print(result)"
   ]
  },
  {
   "cell_type": "code",
   "execution_count": 27,
   "metadata": {},
   "outputs": [
    {
     "name": "stdout",
     "output_type": "stream",
     "text": [
      "3\n"
     ]
    }
   ],
   "source": [
    "# Valor absoluto da diferença de 54 e 57\n",
    "result = abs(54-57)\n",
    "print(result)"
   ]
  },
  {
   "cell_type": "code",
   "execution_count": 28,
   "metadata": {},
   "outputs": [
    {
     "name": "stdout",
     "output_type": "stream",
     "text": [
      "29\n"
     ]
    }
   ],
   "source": [
    "# Menor valor entre 34, 29, 31\n",
    "result = min(34,29,31)\n",
    "print(result)"
   ]
  },
  {
   "cell_type": "code",
   "execution_count": 29,
   "metadata": {},
   "outputs": [
    {
     "name": "stdout",
     "output_type": "stream",
     "text": [
      "25\n"
     ]
    }
   ],
   "source": [
    "a = 3\n",
    "b = 4\n",
    "c = a*a + b*b\n",
    "\n",
    "print(c)"
   ]
  },
  {
   "cell_type": "code",
   "execution_count": null,
   "metadata": {},
   "outputs": [],
   "source": [
    "# Exibir saídas como abaixo\n",
    "s1 = 'ant'\n",
    "s2 = 'bat'\n",
    "s3 = 'cod'\n",
    "\n",
    "#  'ant bat cod'\n",
    "print(s1,s2,s3)\n",
    "print(s1+' '+s2+' '+s3)\n",
    "print(\"\")\n",
    "\n",
    "# 10x com espaço\n",
    "print((s1+' ')*10)\n",
    "print(\"\")\n",
    "\n",
    "# ant bat bat cod cod cod\n",
    "print(s1, (s2+' ')*2 + (s3+' ')*3)\n",
    "print(\"\")\n",
    "\n",
    "# ant bat 7x\n",
    "print((s1 + ' ' + s2 + ' ')*7)\n",
    "print(\"\")\n",
    "\n",
    "# batbatcod 3x\n",
    "print((s2*2+s3+' ')*4)"
   ]
  },
  {
   "cell_type": "markdown",
   "metadata": {},
   "source": [
    "### Problemas"
   ]
  },
  {
   "cell_type": "code",
   "execution_count": null,
   "metadata": {},
   "outputs": [],
   "source": [
    "# Desconto de produto\n",
    "preco = float(input('Digite o preço:'))\n",
    "percentual = float(input('Digite o percentual de desconto:'))\n",
    "\n",
    "perc = preco * (percentual/100)\n",
    "result = preco - perc\n",
    "\n",
    "print('O preço do produto é {}'.format(preco))\n",
    "print('Desconto de {}'.format(percentual))\n",
    "print('Sobre o preço, equivale a {}'.format(perc))\n",
    "print('Tendo o preço com desconto:{}'.format(result))\n",
    "print('')\n",
    "print('O preço do produto é %f com o percentual de desconto %f equivalente a %f tendo o preço com desconto: %f' % (preco, percentual, perc, result))"
   ]
  },
  {
   "cell_type": "code",
   "execution_count": null,
   "metadata": {},
   "outputs": [],
   "source": [
    "# Aluguel de carro\n",
    "quantKM = int(input('Digite a quantidade em Km percorridos:'))\n",
    "quantDias = int(input('Digite a quantidade de dias de aluguel do carro:'))\n",
    "\n",
    "result = 60 * quantDias + 0.15 * quantKM\n",
    "\n",
    "print('O preço a pagar é {}'.format(result))"
   ]
  },
  {
   "cell_type": "code",
   "execution_count": null,
   "metadata": {},
   "outputs": [],
   "source": [
    "fraseQualquer = input('Digite uma frase:')\n",
    "segundametade = fraseQualquer[len(fraseQualquer)//2:len(fraseQualquer)]\n",
    "utlimos = segundametade[len(segundametade)-2:len(segundametade)]\n",
    "\n",
    "print(fraseQualquer)\n",
    "print(segundametade)\n",
    "print(utlimos)"
   ]
  },
  {
   "cell_type": "markdown",
   "metadata": {},
   "source": [
    "# Aula 3"
   ]
  },
  {
   "cell_type": "markdown",
   "metadata": {},
   "source": [
    "# Aula 4"
   ]
  },
  {
   "cell_type": "markdown",
   "metadata": {},
   "source": [
    "# Aula 5"
   ]
  },
  {
   "cell_type": "markdown",
   "metadata": {},
   "source": [
    "# Aula 6"
   ]
  },
  {
   "cell_type": "markdown",
   "metadata": {},
   "source": [
    "# Trabalho"
   ]
  }
 ],
 "metadata": {
  "kernelspec": {
   "display_name": "Python 3",
   "language": "python",
   "name": "python3"
  },
  "language_info": {
   "codemirror_mode": {
    "name": "ipython",
    "version": 3
   },
   "file_extension": ".py",
   "mimetype": "text/x-python",
   "name": "python",
   "nbconvert_exporter": "python",
   "pygments_lexer": "ipython3",
   "version": "3.11.4"
  },
  "orig_nbformat": 4
 },
 "nbformat": 4,
 "nbformat_minor": 2
}
